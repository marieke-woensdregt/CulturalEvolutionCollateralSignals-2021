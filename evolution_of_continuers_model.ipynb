{
 "cells": [
  {
   "cell_type": "markdown",
   "metadata": {},
   "source": [
    "# Cultural evolution of collatoral signals vs. regular vocabulary\n",
    "\n",
    "\n",
    "## Observation: \n",
    "Corpus work on continuers: Continuer-type collateral signals are:\n",
    "- phonologically less diverse\n",
    "- structurally simpler\n",
    "- shorter than other words\n",
    "\n",
    "## Hypothesis: \n",
    "Collatoral signals have culturally evolved to (i) be short and simple, and (ii) make use of a restricted and distinct subset of phonemes and multimodal elements, because that way they minimise disruption to the flow of conversation. Here we will first focus on continuer signals (like *mmhmm*) specifically, as an example of the broader category of collatoral signals. \n",
    "\n",
    "### Potential sources of disruption:\n",
    "1. **Production effort:** More effortful --> slows down conversation (both time & processing)\n",
    "2. **Confusability with regular vocabulary:** More confusable --> higher processing demands & increased chance of misinterpretation of the function (as content instead of collatoral)"
   ]
  },
  {
   "cell_type": "markdown",
   "metadata": {},
   "source": [
    "2021-04-30 14:05:39 \n",
    "\n",
    "## Modelling framework: Exemplar model\n",
    "\n",
    "Winter & Wedel (2016) about exemplar models: \n",
    "\n",
    "\n",
    "_\"Within this framework, linguistic categories such as a words and sounds are modeled as populations\n",
    "of stored instances or exemplars of that category. A strength of this framework is its ability\n",
    "to account for the observation that speakers’ categorization behavior changes as variants\n",
    "of a category are experienced. Assuming a previously evolved system of discrete\n",
    "linguistic categories, this paper uses this exemplar framework to explore how the distribution\n",
    "of sound categories continues to be influenced by word categories in individuals, and\n",
    "by extension, how the larger system of sound categories in a population can evolve over\n",
    "the course of language change.\" (p. 504)_"
   ]
  },
  {
   "cell_type": "markdown",
   "metadata": {},
   "source": [
    "2021-04-30 14:17:21 \n",
    "\n",
    "## Prediction:\n",
    "\n",
    "Given a model like that of Wedel (2012) and Winter & Wedel (2016), we predict that if we make a distinction between a class of collatoral/continuer words vs. a class of regular vocabulary words, and put the class of collatoral/continuer words under adapted pressures compared to those that the regular vocabulary words are subject to, this will cause the collatoral/continuer words to always end up in the same region of the space, whereas the regular vocabulary words are free to move around. \n",
    "\n",
    "That is, the regulary vocabulary words are truly *arbitrary*: it doesn't matter whether word category 1 ends up in the top-left quadrant of the space or in the bottom-right quadrant, etc.; and the same holds for all other word categories within the regular vocabulary class.\n",
    "The word(s) in the collatoral/continuer class however, are subject to specific pressures that cause the form to be non-arbitrary; meaning that the word(s) in that class always end up in the same region of the possibility space, across independent simulation runs with independent randomised initialisations of the word category clusters.\n",
    "\n",
    "If we'd start working with more than 1 word in the class of continuers, we'd further adapt the pressures such that *within* the class of continuers, the anti-ambiguity bias is minimal. The idea behind this is that it's not important to distinguish *mmhmm* from *mmm*. The corresponding prediction would then be that all words in the continuer class end up clustered together in the same region of the possibility space."
   ]
  },
  {
   "cell_type": "markdown",
   "metadata": {},
   "source": [
    "## Replication of Winter & Wedel (2016) / Wedel (2012), with some added features\n",
    "\n",
    "\n",
    "### General features\n",
    "\n",
    "- An **agent** consists of a lexicon of $|W|$ word categories (let's start with 4). One word in that set should be singled out as the *continuer* word. In other words, the entire set of word categories $W$ can be further split up into a set of regular vocabulary words (let's call it $V$) and a set of collatoral/continuer words (let's call it $C$), where $W = V \\cup C$ and $V \\cap C = \\varnothing$. Let's start with $|C| = 1$. For the word(s) in the set $C$, additional and/or adapted pressures will apply. (We want to *increase* the pressure for minimal production effort, and *ease* the pressure for re-use of features; see Section 1.4.4 below.)\n",
    "    - A **word** is represented by a set of exemplars. \n",
    "        - An **exemplar** is represented by a vector that designates a point in an *n*-dimensional space. Let's start with 2 dimensions, and let's have them both range arbitrarily from 0 to 100 (with integer values in between). An example of an exemplar would then be $[15, 25]$ (these individual values in the vector, like 15 and 25, are referred to as \"segments\" by Wedel, 2012).\n",
    "\n",
    "\n",
    "- **Initialisation of an agent:** _\"Both agents’ lexicons are pre-seeded with 100 clustered exemplars of each word category.\"_ (Wedel, 2012) <span class=\"mark\">--> What does clustered mean here exactly? How are these initialised? Just start each word category by choosing a random point in the 2D-space, and then generate the other 99 exemplars around that point? Not sure...</span>\n",
    "\n",
    "### A simulation:\n",
    "\n",
    "- Wedel (2012) talks about 20 independent simulation runs per condition, consisting of 10,000 rounds each. However, the figures usually show the result after 4,000 rounds.\n",
    "- **Round of interactions:** \n",
    "    - _\"Agents take turns talking to each other: In each round, the speaker utters one token of each word in its lexicon, and the listener maps each token to the best fitting category and stores it there as a new exemplar of that category._ (Winter & Wedel, 2016)\n",
    "    - _\"After a speaker has produced an output target for each of its word categories, roles reverse.\"_ (Wedel, 2012; Appendix)\n",
    "    - _\"Agents take turns producing an output from each of their word categories for each other, and likewise take turns categorizing and storing the outputs of the other.\"_ \n",
    "- **Success:**_\"Within the scope of this model, communication is successful to the extent that the listener maps the speaker’s output to the intended word category.\"_\n",
    "\n",
    "\n",
    "### Pressures at play for regular vocabulary\n",
    "\n",
    "\n",
    "#### Production:\n",
    "\n",
    "\n",
    "\n",
    "Production begins by selecting one exemplar from a word category: An exemplar is chosen from the target word category with probability proportional to the exemplar's activation level. \n",
    "\n",
    "##### Activation level\n",
    "- _\"Each new exemplar is associated with an initial activation value that decreases over time (i.e., memory decay; Hintzman, 1986; Nosofsky, 1986; Pierrehumbert, 2001).\"_ (Winter & Wedel, 2016)\n",
    "- _\"Activation is calculated as an exponential function of recency, where exemplars that were stored 100 rounds previously have an activation level that is approximately .1% that of a new exemplar).\"_ (Wedel, 2012)\n",
    "- _\"In the model runs shown here, the activation of a exemplar is modeled as $e^{(.2j)}$, where $j$ is its list position; this results in a exemplar at position 100 having an activation that is approximately .01 times that of an exemplar at position 1.\"_ (Wedel, 2012; Appendix)\n",
    "- _\"The probability of an exemplar being chosen as a production target is its activation relative to the total activation of all exemplars in the category.\"_ (Wedel, 2012; Appendix)\n",
    "- _\"Exemplars at list positions greater than 100 are discarded after every round to keep computation efficient; preserving more exemplars slows the rate of change in the system but otherwise does not qualitatively change system behavior.\"_ (Wedel, 2012; Appendix)"
   ]
  },
  {
   "cell_type": "markdown",
   "metadata": {},
   "source": [
    "##### Intermezzo: Worked example for activation level:\n",
    "\n",
    "The text in the body of the 2012 paper and the text in the appendix of the 2012 paper give different ratios of activation for an exemplar at position 1 versus an exemplar at position 100.\n",
    "- The body of the paper says an exemplar at position 100 should have an activation level that is approximately 0.1% that of a new exemplar. Approximately 0.1% = ~0.001 times the activation of a new exemplar.\n",
    "- The appendix, on the other hand, says that an exemplar at position 100 should have an activation level that is approximately 0.01 times that of an exemplar at position 1.\n",
    "\n",
    "To make things even more confusing, neither of these examples from the text correspond with the equation that is given in the appendix: $e^{(.2j)}$ where $j$ is the list position of the exemplar. \n",
    "\n",
    "I would interpret this as follows:"
   ]
  },
  {
   "cell_type": "code",
   "execution_count": 1,
   "metadata": {
    "ExecuteTime": {
     "end_time": "2022-02-28T14:46:02.066987Z",
     "start_time": "2022-02-28T14:46:02.050116Z"
    }
   },
   "outputs": [
    {
     "name": "stdout",
     "output_type": "stream",
     "text": [
      "\n",
      "activation_level_position_1 is:\n",
      "1.2214027581601699\n",
      "\n",
      "activation_level_position_100 is:\n",
      "485165195.4097903\n",
      "\n",
      "ratio is:\n",
      "397219665.8050838\n"
     ]
    }
   ],
   "source": [
    "import math\n",
    "\n",
    "def activation_level_original(j):\n",
    "    return math.exp((0.2*j))\n",
    "\n",
    "activation_level_position_1 = activation_level_original(1)\n",
    "print('')\n",
    "print(\"activation_level_position_1 is:\")\n",
    "print(activation_level_position_1)\n",
    "\n",
    "activation_level_position_100 = activation_level_original(100)\n",
    "print('')\n",
    "print(\"activation_level_position_100 is:\")\n",
    "print(activation_level_position_100)\n",
    "\n",
    "ratio = activation_level_position_100/activation_level_position_1\n",
    "print('')\n",
    "print(\"ratio is:\")\n",
    "print(ratio)"
   ]
  },
  {
   "cell_type": "markdown",
   "metadata": {},
   "source": [
    "This can **definitely** not be right, because the exemplar at list position 100 has a *higher* activation level than the exemplar at position 1.\n",
    "\n",
    "Could there be a minus sign missing in the exponent? Maybe something went wrong in typesetting the equation?"
   ]
  },
  {
   "cell_type": "code",
   "execution_count": 2,
   "metadata": {
    "ExecuteTime": {
     "end_time": "2022-02-28T14:46:02.226636Z",
     "start_time": "2022-02-28T14:46:02.220429Z"
    }
   },
   "outputs": [
    {
     "name": "stdout",
     "output_type": "stream",
     "text": [
      "\n",
      "activation_level_position_1 is:\n",
      "0.8187307530779818\n",
      "\n",
      "activation_level_position_100 is:\n",
      "2.061153622438558e-09\n",
      "\n",
      "ratio is:\n",
      "2.51749871943828e-09\n"
     ]
    }
   ],
   "source": [
    "import math\n",
    "\n",
    "def activation_level_with_minus(j):\n",
    "    return math.exp((-0.2*j))\n",
    "\n",
    "activation_level_position_1 = activation_level_with_minus(1)\n",
    "print('')\n",
    "print(\"activation_level_position_1 is:\")\n",
    "print(activation_level_position_1)\n",
    "\n",
    "activation_level_position_100 = activation_level_with_minus(100)\n",
    "print('')\n",
    "print(\"activation_level_position_100 is:\")\n",
    "print(activation_level_position_100)\n",
    "\n",
    "ratio = activation_level_position_100/activation_level_position_1\n",
    "print('')\n",
    "print(\"ratio is:\")\n",
    "print(ratio)"
   ]
  },
  {
   "cell_type": "markdown",
   "metadata": {},
   "source": [
    "Ok, now at least the exemplar at list position 100 has a smaller activation level than the exemplar at list position 1, but the ratio is *way* more exaggerated than the examples given in the text.\n",
    "\n",
    "If we'd want to replicate the examples given in the text (either a ratio of ~0.01 or a ratio of ~0.001), we'd need to use the following numbers instead of 0.2:"
   ]
  },
  {
   "cell_type": "code",
   "execution_count": 3,
   "metadata": {
    "ExecuteTime": {
     "end_time": "2022-02-28T14:46:02.438346Z",
     "start_time": "2022-02-28T14:46:02.431860Z"
    }
   },
   "outputs": [
    {
     "name": "stdout",
     "output_type": "stream",
     "text": [
      "\n",
      "activation_level_position_1 is:\n",
      "0.9550419621907147\n",
      "\n",
      "activation_level_position_100 is:\n",
      "0.010051835744633586\n",
      "\n",
      "ratio is:\n",
      "0.010525019991348097\n"
     ]
    }
   ],
   "source": [
    "import math\n",
    "\n",
    "def activation_level_with_minus_and_constant_as_argument(j, constant):\n",
    "    return math.exp((-constant*j))\n",
    "\n",
    "\n",
    "constant = 0.046 \n",
    "\n",
    "activation_level_position_1 = activation_level_with_minus_and_constant_as_argument(1, constant)\n",
    "print('')\n",
    "print(\"activation_level_position_1 is:\")\n",
    "print(activation_level_position_1)\n",
    "\n",
    "activation_level_position_100 = activation_level_with_minus_and_constant_as_argument(100, constant)\n",
    "print('')\n",
    "print(\"activation_level_position_100 is:\")\n",
    "print(activation_level_position_100)\n",
    "\n",
    "ratio = activation_level_position_100/activation_level_position_1\n",
    "print('')\n",
    "print(\"ratio is:\")\n",
    "print(ratio)"
   ]
  },
  {
   "cell_type": "code",
   "execution_count": 4,
   "metadata": {
    "ExecuteTime": {
     "end_time": "2022-02-28T14:46:02.446070Z",
     "start_time": "2022-02-28T14:46:02.441018Z"
    }
   },
   "outputs": [
    {
     "name": "stdout",
     "output_type": "stream",
     "text": [
      "\n",
      "activation_level_position_1 is:\n",
      "0.933326680078202\n",
      "\n",
      "activation_level_position_100 is:\n",
      "0.0010077854290485105\n",
      "\n",
      "ratio is:\n",
      "0.0010797777997346757\n"
     ]
    }
   ],
   "source": [
    "constant = 0.069\n",
    "\n",
    "activation_level_position_1 = activation_level_with_minus_and_constant_as_argument(1, constant)\n",
    "print('')\n",
    "print(\"activation_level_position_1 is:\")\n",
    "print(activation_level_position_1)\n",
    "\n",
    "activation_level_position_100 = activation_level_with_minus_and_constant_as_argument(100, constant)\n",
    "print('')\n",
    "print(\"activation_level_position_100 is:\")\n",
    "print(activation_level_position_100)\n",
    "\n",
    "ratio = activation_level_position_100/activation_level_position_1\n",
    "print('')\n",
    "print(\"ratio is:\")\n",
    "print(ratio)"
   ]
  },
  {
   "cell_type": "markdown",
   "metadata": {},
   "source": [
    "Another possibility is that the % sign in the text example in the body of the paper was put there by accident? So that the author actually means a ratio of of ~0.1? Would that bring the constant closer to the 0.2 given in the appendix?\n",
    "\n",
    "What constant would give us something close to a ratio of ~0.1?"
   ]
  },
  {
   "cell_type": "code",
   "execution_count": 5,
   "metadata": {
    "ExecuteTime": {
     "end_time": "2022-02-28T14:46:02.680513Z",
     "start_time": "2022-02-28T14:46:02.661771Z"
    }
   },
   "outputs": [
    {
     "name": "stdout",
     "output_type": "stream",
     "text": [
      "\n",
      "activation_level_position_1 is:\n",
      "0.9772624837732771\n",
      "\n",
      "activation_level_position_100 is:\n",
      "0.10025884372280375\n",
      "\n",
      "ratio is:\n",
      "0.10259152007523865\n"
     ]
    }
   ],
   "source": [
    "constant = 0.023\n",
    "\n",
    "activation_level_position_1 = activation_level_with_minus_and_constant_as_argument(1, constant)\n",
    "print('')\n",
    "print(\"activation_level_position_1 is:\")\n",
    "print(activation_level_position_1)\n",
    "\n",
    "activation_level_position_100 = activation_level_with_minus_and_constant_as_argument(100, constant)\n",
    "print('')\n",
    "print(\"activation_level_position_100 is:\")\n",
    "print(activation_level_position_100)\n",
    "\n",
    "ratio = activation_level_position_100/activation_level_position_1\n",
    "print('')\n",
    "print(\"ratio is:\")\n",
    "print(ratio)"
   ]
  },
  {
   "cell_type": "markdown",
   "metadata": {},
   "source": [
    "Hmm, ok, at least there's a 2 in the constant now. So if we'd imagine there is not only a minus sign missing from the equation as it appears in the appendix, but that there's also a zero missing, and that the % sign in the body of the text was put there by accident, *then* we might get something that more or less works?\n",
    "So in that case, the correct equation would be: $e^{(-0.02j)}$\n",
    "\n",
    "But this would require a lot of creative interpretation...."
   ]
  },
  {
   "cell_type": "markdown",
   "metadata": {},
   "source": [
    "**So we asked Andy Wedel via email.** He writes: \n",
    "$$ \\text{prop} = 2.72 ^{(-j/ \\text{decay})} $$\n",
    "Where *decay* is the total number of exemplars (in most of the runs either 100 or 200) divided by 5"
   ]
  },
  {
   "cell_type": "code",
   "execution_count": 6,
   "metadata": {
    "ExecuteTime": {
     "end_time": "2022-02-28T14:46:03.142423Z",
     "start_time": "2022-02-28T14:46:03.136967Z"
    }
   },
   "outputs": [
    {
     "name": "stdout",
     "output_type": "stream",
     "text": [
      "\n",
      "activation_level_position_1 is:\n",
      "0.9511993718183768\n",
      "\n",
      "activation_level_position_100 is:\n",
      "0.006716692712056564\n",
      "\n",
      "ratio is:\n",
      "0.007061288002342223\n"
     ]
    }
   ],
   "source": [
    "n = 100\n",
    "\n",
    "def activation_level_wedel(j):\n",
    "    return 2.72**(-j/(n/5))\n",
    "\n",
    "activation_level_position_1 = activation_level_wedel(1)\n",
    "print('')\n",
    "print(\"activation_level_position_1 is:\")\n",
    "print(activation_level_position_1)\n",
    "\n",
    "activation_level_position_100 = activation_level_wedel(100)\n",
    "print('')\n",
    "print(\"activation_level_position_100 is:\")\n",
    "print(activation_level_position_100)\n",
    "\n",
    "ratio = activation_level_position_100/activation_level_position_1\n",
    "print('')\n",
    "print(\"ratio is:\")\n",
    "print(ratio)"
   ]
  },
  {
   "cell_type": "markdown",
   "metadata": {},
   "source": [
    "Actually, this number 2.72 must come from Euler's number. So to make things a bit cleaner, let's use this:"
   ]
  },
  {
   "cell_type": "code",
   "execution_count": 7,
   "metadata": {
    "ExecuteTime": {
     "end_time": "2022-02-28T14:46:03.361887Z",
     "start_time": "2022-02-28T14:46:03.356296Z"
    }
   },
   "outputs": [
    {
     "name": "stdout",
     "output_type": "stream",
     "text": [
      "\n",
      "activation_level_position_1 is:\n",
      "0.951229424500714\n",
      "\n",
      "activation_level_position_100 is:\n",
      "0.006737946999085467\n",
      "\n",
      "ratio is:\n",
      "0.00708340892905212\n"
     ]
    }
   ],
   "source": [
    "import math\n",
    "\n",
    "n = 100\n",
    "\n",
    "def activation_level_wedel(j):\n",
    "    return math.exp((-j/(n/5)))\n",
    "\n",
    "activation_level_position_1 = activation_level_wedel(1)\n",
    "print('')\n",
    "print(\"activation_level_position_1 is:\")\n",
    "print(activation_level_position_1)\n",
    "\n",
    "activation_level_position_100 = activation_level_wedel(100)\n",
    "print('')\n",
    "print(\"activation_level_position_100 is:\")\n",
    "print(activation_level_position_100)\n",
    "\n",
    "ratio = activation_level_position_100/activation_level_position_1\n",
    "print('')\n",
    "print(\"ratio is:\")\n",
    "print(ratio)"
   ]
  },
  {
   "cell_type": "markdown",
   "metadata": {},
   "source": [
    "#####  Model description continued:"
   ]
  },
  {
   "cell_type": "markdown",
   "metadata": {},
   "source": [
    "After a target exemplar has been selected on the basis of its activation level, two different similarity biases are applied to it:\n",
    "\n",
    "##### Similarity biases:\n",
    "\n",
    "Consist of the following two components:\n",
    "\n",
    "- **Within-word category similarity bias:** _\"The segment exemplar values of this initial word target are stochastically biased toward the value at the same positions in all the word exemplars within the category\"_\n",
    "    - _\"At the word level, population vectors are calculated for the segment values in the target word relative to all segment values at the same position over all exemplars within that word category\"_ (Wedel, 2012; Appendix)\n",
    "\n",
    "- **Within-segment-dimension similarity bias:** _\"each individual segment exemplar value in the target is also stochastically biased toward all other segment exemplars that reference the same dimension across the entire lexicon\"_ \n",
    "    - _\"At the segment level, population vectors are calculated for the segment values in the target word relative to all segment values on that dimension across the lexicon.\"_ (Wedel, 2012; Appendix)\n",
    "\n",
    "- _\"The population vector with respect to a particular point within a particular segment dimension is a weighted average of all segment exemplars mapped to the category, where both the Euclidean distance from the target exemplar and activation influence each exemplar’s contribution. This is conceptually the same as Nosofsky’s Generalized Context model (Nosofsky 1988), modified to take exemplar activation into account. The formula used to incorporate these factors is given below, where $p$ is the output population vector, y is each position within the segment dimension value of the target under production, $w_{y}$ is the activation of the exemplar, $x$ is the reference point chosen as the basis for production, and $k$ is a scaling factor influencing the fall off of the contribution to the population vector of the point $y$ relative to $x$:\"_ (Wedel, 2012; Appendix)\n",
    "\n",
    "$$ p = \\frac{\\sum_y yw_{y} e^{-k |x-y|}}{\\sum_{y} w_{y} e^{-k |x-y|}} $$\n",
    "\n",
    "- _\"The value of $k$ used in the simulations shown here is 0.2; a larger value of $k$ reduces the effect of more distant values on the population vector.\"_ (Wedel, 2012; Appendix). --> Let us start with $k = 0.2$ as well, but make $k$ into a parameter that we can change just in case.\n",
    "\n",
    "\n",
    "- _\"To model the influence of both word and segment recency and similarity on production variation, the population vectors at each segment dimension at each level are combined to create a new output that combines information from both within-word category, and within-lexicon sources. The relative contribution of word versus segment population vectors to the output was fixed at .9.\"_ (Wedel, 2012; Appendix). I wasn't immediately sure how to interpret this, but I think the following is the most likely interpretation:\n",
    "    - I think it's clear that the final output vector should be a weighted average of the within-word and within-segment population vectors. And I'm assuming the weight of one of them should be 0.9, while the weight of the other is 1.0. (When expressed as a fraction, the 0.9:1 ratio corresponds to 0.9.)\n",
    "    - <span class=\"mark\">I'm not 100% sure which way around these weightings should be</span>, but I think the most plausible interpretation is that word:segment = 0.9:1.0. Meaning that the weight of the within-word population vector is 0.9, while the weight of the within-segment population vector is 1.0.\n",
    "    \n",
    "--> **We found this in the scripts that Andy Wedel sent us:** \n",
    "\n",
    "$$ \\$outword[\\$a] = ((9*\\$outword[\\$a]) + \\$outsounds[\\$a])/10 $$\n",
    "\n",
    "where $\\$outword$ is the population vector for the within-word similarity bias, and $\\$outsounds$ is the population vector for the within-segment similarity bias.\n",
    "--> So it's actually $(0.9*outword) + (0.1*outsounds)$\n",
    "\n",
    "--> And a comment in Andy's code indeed says: \"*For the Winter/Wedel paper, we used a proportion of .9 of the word-based bias to .1 of the sound based bias.*\""
   ]
  },
  {
   "cell_type": "markdown",
   "metadata": {},
   "source": [
    "##### Intermezzo: Worked example for similarity biases:"
   ]
  },
  {
   "cell_type": "markdown",
   "metadata": {},
   "source": [
    "###### Within-word category similarity bias:"
   ]
  },
  {
   "cell_type": "code",
   "execution_count": 8,
   "metadata": {
    "ExecuteTime": {
     "end_time": "2022-02-28T14:46:04.219054Z",
     "start_time": "2022-02-28T14:46:04.194873Z"
    }
   },
   "outputs": [
    {
     "name": "stdout",
     "output_type": "stream",
     "text": [
      "\n",
      "\n",
      "dimension is:\n",
      "0\n",
      "x is:\n",
      "15\n",
      "y_values are:\n",
      "[15 16 18 12]\n",
      "w_y_values are:\n",
      "[0.4 0.3 0.2 0.1]\n",
      "numerator is:\n",
      "12.564203468025639\n",
      "denominator is:\n",
      "0.8102627167516026\n",
      "p for dimension 0 is:\n",
      "15.506332956298879\n",
      "\n",
      "\n",
      "dimension is:\n",
      "1\n",
      "x is:\n",
      "25\n",
      "y_values are:\n",
      "[25 26 28 23]\n",
      "w_y_values are:\n",
      "[0.4 0.3 0.2 0.1]\n",
      "numerator is:\n",
      "21.001181142016776\n",
      "denominator is:\n",
      "0.8224135577457639\n",
      "p for dimension 1 is:\n",
      "25.536034692303748\n",
      "\n",
      "pop_vector_within_word is:\n",
      "[15.506332956298879, 25.536034692303748]\n"
     ]
    }
   ],
   "source": [
    "import math\n",
    "import numpy as np # to create arrays that are easily manipulated along differen axes\n",
    "\n",
    "# Worked example for within-word category similarity bias:\n",
    "\n",
    "# Imagine these are all the exemplars across all different word categories \n",
    "# (in the full model there'd be 100 exemplars per category, rather than 4):\n",
    "\n",
    "# word category 1:\n",
    "exemplar_1_1 = [15, 25]\n",
    "exemplar_1_2 = [16, 26]\n",
    "exemplar_1_3 = [18, 28]\n",
    "exemplar_1_4 = [12, 23]\n",
    "\n",
    "# word category 2:\n",
    "exemplar_2_1 = [70, 31]\n",
    "exemplar_2_2 = [68, 29]\n",
    "exemplar_2_3 = [73, 32]\n",
    "exemplar_2_4 = [72, 30]\n",
    "\n",
    "# word category 3:\n",
    "exemplar_3_1 = [21, 72]\n",
    "exemplar_3_2 = [19, 77]\n",
    "exemplar_3_3 = [23, 70]\n",
    "exemplar_3_4 = [20, 75]\n",
    "\n",
    "# word category 4:\n",
    "exemplar_4_1 = [76, 65]\n",
    "exemplar_4_2 = [72, 68]\n",
    "exemplar_4_3 = [78, 64]\n",
    "exemplar_4_4 = [74, 69]\n",
    "\n",
    "# And imagine they have the following (normalised) activation levels:\n",
    "\n",
    "# word category 1:\n",
    "activation_ex_1_1 = 0.4\n",
    "activation_ex_1_2 = 0.3\n",
    "activation_ex_1_3 = 0.2\n",
    "activation_ex_1_4 = 0.1\n",
    "\n",
    "# word category 2:\n",
    "activation_ex_2_1 = 0.65\n",
    "activation_ex_2_2 = 0.15\n",
    "activation_ex_2_3 = 0.1\n",
    "activation_ex_2_4 = 0.1\n",
    "\n",
    "# word category 3:\n",
    "activation_ex_3_1 = 0.5\n",
    "activation_ex_3_2 = 0.3\n",
    "activation_ex_3_3 = 0.15\n",
    "activation_ex_3_4 = 0.05\n",
    "\n",
    "# word category 4:\n",
    "activation_ex_4_1 = 0.7\n",
    "activation_ex_4_2 = 0.2\n",
    "activation_ex_4_3 = 0.05\n",
    "activation_ex_4_4 = 0.05\n",
    "\n",
    "# This allows us to construct the speaker's lexicon as follows:\n",
    "\n",
    "speaker_lexicon = np.array([[exemplar_1_1, exemplar_1_2, exemplar_1_3, exemplar_1_4],\n",
    "                    [exemplar_2_1, exemplar_2_2, exemplar_2_3, exemplar_2_4],\n",
    "                    [exemplar_3_1, exemplar_3_2, exemplar_3_3, exemplar_3_4],\n",
    "                    [exemplar_4_1, exemplar_4_2, exemplar_4_3, exemplar_4_4]])\n",
    "\n",
    "\n",
    "speaker_activations = np.array([[activation_ex_1_1, activation_ex_1_2, activation_ex_1_3, activation_ex_1_4],\n",
    "                        [activation_ex_2_1, activation_ex_2_2, activation_ex_2_3, activation_ex_2_4],\n",
    "                        [activation_ex_3_1, activation_ex_3_2, activation_ex_3_3, activation_ex_3_4],\n",
    "                        [activation_ex_4_1, activation_ex_4_2, activation_ex_4_3, activation_ex_4_4]])\n",
    "\n",
    "\n",
    "# Now imagine exemplar_1_1 is chosen as the exemplar to be produced, \n",
    "# based on its activation level\n",
    "\n",
    "# For each segment of exemplar_1_1, we then first calculate a population vector,\n",
    "# using the segment values at the same position (i.e. 1st dimension or 2nd dimension)\n",
    "# from all other exemplars within that same word category.\n",
    "# That population vector is a weighted average of all segment exemplars mapped to the\n",
    "# category, using Equation 1.\n",
    "# First, let's translate Equation 1 to a function:\n",
    "\n",
    "def population_vector(x, y_values, w_y_values, k):\n",
    "    numerator = 0\n",
    "    denominator = 0\n",
    "    for i in range(len(y_values)):\n",
    "        y = y_values[i]\n",
    "        w_y = w_y_values[i]\n",
    "        numerator += y*w_y*math.exp(-k*abs(x-y))\n",
    "        denominator += w_y*math.exp(-k*abs(x-y))\n",
    "    print(\"numerator is:\")\n",
    "    print(numerator)\n",
    "    print(\"denominator is:\")\n",
    "    print(denominator)\n",
    "    p = numerator/denominator\n",
    "    return p\n",
    "\n",
    "\n",
    "# Now let's figure out what the relevant input arguments \n",
    "# for the population_vector function are:\n",
    "# We have to calculate a separate population vector for each dimension.\n",
    "# Let's start with the 1st dimension:\n",
    "# We said that exemplar_1_1 was chosen as the reference point for production,\n",
    "# based on its activation level. That means that x for the 1st dimension should\n",
    "# be 15.\n",
    "# Consequently the y_values for the first dimension should be [15, 16, 18, 12].\n",
    "# Let's write a function to easily grab these values and calculate the population vector\n",
    "# for the two different dimensions:\n",
    "\n",
    "def similarity_bias_within_word(lexicon, activations, word_index, exemplar_index, k):\n",
    "    reference_exemplar = lexicon[word_index][exemplar_index]\n",
    "    p_per_dimension = []\n",
    "    for dimension in range(len(reference_exemplar)):\n",
    "        print('')\n",
    "        print('')\n",
    "        print(\"dimension is:\")\n",
    "        print(dimension)\n",
    "        x = reference_exemplar[dimension]\n",
    "        print(\"x is:\")\n",
    "        print(x)\n",
    "        y_values = lexicon[word_index][:,dimension]\n",
    "        print(\"y_values are:\")\n",
    "        print(y_values)\n",
    "        w_y_values = activations[word_index]\n",
    "        print(\"w_y_values are:\")\n",
    "        print(w_y_values)\n",
    "        p = population_vector(x, y_values, w_y_values, k)\n",
    "        print(\"p for dimension \"+str(dimension)+\" is:\")\n",
    "        print(p)\n",
    "        p_per_dimension.append(p)\n",
    "    return p_per_dimension\n",
    "        \n",
    "        \n",
    "# Let's set k to 0.2, as in Wedel (2012):\n",
    "k = 0.2\n",
    "\n",
    "# Finally, we need the index of the target word and the selected reference exemplar. \n",
    "# These should both be 0, because we said the target was word category 1, \n",
    "# and exemplar_1_1 was chosen based on its activation level.\n",
    "target_word_index = 0\n",
    "reference_exemplar_index = 0\n",
    "\n",
    "pop_vector_within_word = similarity_bias_within_word(speaker_lexicon, speaker_activations, target_word_index, reference_exemplar_index, k)\n",
    "print('')\n",
    "print(\"pop_vector_within_word is:\")\n",
    "print(pop_vector_within_word)\n"
   ]
  },
  {
   "cell_type": "markdown",
   "metadata": {
    "ExecuteTime": {
     "end_time": "2021-05-10T08:54:03.010001Z",
     "start_time": "2021-05-10T08:54:03.007548Z"
    }
   },
   "source": [
    "As we can see if we run the code block above, both segment values of the reference exemplar (originally [15, 25]) get moved upwards after the within-word category similarity bias has been applied. From 15 to 15.51, and from 25 to 25.54.\n",
    "\n",
    "This makes sense, because if we look at the other exemplar within the category and their activation levels, we see that most other exemplars within the category (exemplars 1_2 and 1_3) have slightly higher segment values than the reference exemplar that was chosen (exemplar_1_1).\n",
    "The only exemplar that has lower values than the reference exemplar (exemplar_1_4) has a relatively low activation level, and therefore contributes less to the shift."
   ]
  },
  {
   "cell_type": "markdown",
   "metadata": {},
   "source": [
    "###### Within-segment similarity bias:"
   ]
  },
  {
   "cell_type": "code",
   "execution_count": 9,
   "metadata": {
    "ExecuteTime": {
     "end_time": "2022-02-28T14:46:04.622641Z",
     "start_time": "2022-02-28T14:46:04.611465Z"
    }
   },
   "outputs": [
    {
     "name": "stdout",
     "output_type": "stream",
     "text": [
      "\n",
      "\n",
      "dimension is:\n",
      "0\n",
      "x is:\n",
      "15\n",
      "y_values are:\n",
      "[15 16 18 12 70 68 73 72 21 19 23 20 76 72 78 74]\n",
      "w_y_values are:\n",
      "[0.4  0.3  0.2  0.1  0.65 0.15 0.1  0.1  0.5  0.3  0.15 0.05 0.7  0.2\n",
      " 0.05 0.05]\n",
      "numerator is:\n",
      "19.353971560385215\n",
      "denominator is:\n",
      "1.1443598956094228\n",
      "p for dimension 0 is:\n",
      "16.912486740090067\n",
      "\n",
      "\n",
      "dimension is:\n",
      "1\n",
      "x is:\n",
      "25\n",
      "y_values are:\n",
      "[25 26 28 23 31 29 32 30 72 77 70 75 65 68 64 69]\n",
      "w_y_values are:\n",
      "[0.4  0.3  0.2  0.1  0.65 0.15 0.1  0.1  0.5  0.3  0.15 0.05 0.7  0.2\n",
      " 0.05 0.05]\n",
      "numerator is:\n",
      "30.94231979288734\n",
      "denominator is:\n",
      "1.1474077222633343\n",
      "p for dimension 1 is:\n",
      "26.96715316840613\n",
      "\n",
      "pop_vector_within_segment is:\n",
      "[16.912486740090067, 26.96715316840613]\n"
     ]
    }
   ],
   "source": [
    "# Now let's do a worked example for the within-segment similarity bias:\n",
    "\n",
    "# We can reuse the population_vector() and similarity_bias() functions defined above.\n",
    "# The only difference is that now we give the entire lexicon (i.e. all exemplars,\n",
    "# across word categories) as input, rather than only the within word category exemplars:\n",
    "\n",
    "def similarity_bias_within_segment(lexicon, activations, word_index, exemplar_index, k):\n",
    "    reference_exemplar = lexicon[word_index][exemplar_index]\n",
    "    p_per_dimension = []\n",
    "    for dimension in range(len(reference_exemplar)):\n",
    "        print('')\n",
    "        print('')\n",
    "        print(\"dimension is:\")\n",
    "        print(dimension)\n",
    "        x = reference_exemplar[dimension]\n",
    "        print(\"x is:\")\n",
    "        print(x)\n",
    "        y_values = lexicon[:,:,dimension].flatten()\n",
    "        print(\"y_values are:\")\n",
    "        print(y_values)\n",
    "        w_y_values = activations.flatten()\n",
    "        print(\"w_y_values are:\")\n",
    "        print(w_y_values)\n",
    "        p = population_vector(x, y_values, w_y_values, k)\n",
    "        print(\"p for dimension \"+str(dimension)+\" is:\")\n",
    "        print(p)\n",
    "        p_per_dimension.append(p)\n",
    "    return p_per_dimension\n",
    "\n",
    "pop_vector_within_segment = similarity_bias_within_segment(speaker_lexicon, speaker_activations, target_word_index, reference_exemplar_index, k)\n",
    "print('')\n",
    "print(\"pop_vector_within_segment is:\")\n",
    "print(pop_vector_within_segment)"
   ]
  },
  {
   "cell_type": "markdown",
   "metadata": {},
   "source": [
    "If we run the code cell above, we see that again the segment values are increased compared to the original target/reference exemplar ([15, 25]): 15 gets changed to 16.91, and 25 gets changed to 26.97.\n",
    "\n",
    "This makes sense, because I constructed the other exemplars in the lexicon in such a way that they all have higher values on each of the segments than the original target/reference exemplar has."
   ]
  },
  {
   "cell_type": "markdown",
   "metadata": {},
   "source": [
    "###### Combining the two similarity biases:\n",
    "\n",
    "Now the last step is to combine the resulting pop_vector_within_word and pop_vector_within_segment with each other. Wedel (2012; Appendix) says:\n",
    "\n",
    "_\"To model the influence of both word and segment recency and similarity on production variation, the population vectors at each segment dimension at each level are combined to create a new output that combines information from both within-word category, and within-lexicon sources. The relative contribution of word versus segment population vectors to the output was fixed at .9.\"_\n",
    "\n",
    "I wasn't immediately sure how to interpret this, but I think the following is the most likely interpretation:\n",
    "- I think it's clear that the final output vector should be a weighted average of the within-word and within-segment population vectors. <span class=\"burk\">And I'm assuming the weight of one of them should be 0.9, while the weight of the other is 1.0. (When expressed as a fraction, the 0.9:1 ratio corresponds to 0.9.)</span>\n",
    "- <span class=\"burk\">I'm not 100% sure about the relative weightings, but I think the most plausible interpretation is that word:segment = 0.9:1.0. Meaning that the weight of the within-word population vector is 0.9, while the weight of the within-segment population vector is 1.0.</span>\n",
    "\n",
    "<span class=\"mark\">---> This turned out to be the wrong inference.</span> Andy writes in his script for the Winter & Wedel (2016) model: \n",
    "_``For the Winter/Wedel paper, we used a proportion of .9 of the word-based bias to .1 of the sound based bias.\"_\n",
    "\n",
    "\n",
    "This would yield the following outcome:"
   ]
  },
  {
   "cell_type": "code",
   "execution_count": 10,
   "metadata": {
    "ExecuteTime": {
     "end_time": "2022-02-28T14:46:05.023737Z",
     "start_time": "2022-02-28T14:46:05.017247Z"
    }
   },
   "outputs": [
    {
     "name": "stdout",
     "output_type": "stream",
     "text": [
      "combined_vector is:\n",
      "[15.646948334677997, 25.679146539913987]\n",
      "\n",
      "sum(combined_vector) is:\n",
      "41.32609487459199\n"
     ]
    }
   ],
   "source": [
    "def combine_pop_vectors(word_vector, segment_vector, word_weight, segment_weight):\n",
    "    combined_vector = []\n",
    "    for dimension in range(len(word_vector)):\n",
    "        word_value = word_vector[dimension]\n",
    "        segment_value = segment_vector[dimension]\n",
    "        weighted_avg = ((word_value*word_weight) + (segment_value*segment_weight)) / (word_weight+segment_weight)\n",
    "        combined_vector.append(weighted_avg)\n",
    "    return combined_vector\n",
    "\n",
    "word_weight = 0.9\n",
    "segment_weight = 0.1\n",
    "\n",
    "combined_vector = combine_pop_vectors(pop_vector_within_word, pop_vector_within_segment, word_weight, segment_weight)\n",
    "print(\"combined_vector is:\")\n",
    "print(combined_vector)\n",
    "print('')\n",
    "print(\"sum(combined_vector) is:\")\n",
    "print(sum(combined_vector))"
   ]
  },
  {
   "cell_type": "markdown",
   "metadata": {},
   "source": [
    "Let's put the combined_vector next to the original within-word population vector and within-segment population vector again:\n",
    "\n",
    "- pop_vector_within_word is: [15.51, 25.54]\n",
    "- pop_vector_within_segment is: [16.91, 26.97]\n",
    "- combined_vector is: [15.65, 25.68]\n",
    "\n",
    "This makes sense. It looks like a weighted average where the within-word population vector has had a more influence than the within-segment population vector.\n",
    "Because if we had just taken the unweighted average, it would have been:"
   ]
  },
  {
   "cell_type": "code",
   "execution_count": 11,
   "metadata": {
    "ExecuteTime": {
     "end_time": "2022-02-28T14:46:05.236091Z",
     "start_time": "2022-02-28T14:46:05.230887Z"
    }
   },
   "outputs": [
    {
     "name": "stdout",
     "output_type": "stream",
     "text": [
      "unweighted_average is:\n",
      "[16.20940985 26.25159393]\n",
      "\n",
      "np.sum(unweighted_average) is:\n",
      "42.46100377854941\n"
     ]
    }
   ],
   "source": [
    "import numpy as np\n",
    "\n",
    "unweighted_average = np.mean((np.array(pop_vector_within_word), np.array(pop_vector_within_segment)), axis=0)\n",
    "print(\"unweighted_average is:\")\n",
    "print(unweighted_average)\n",
    "print('')\n",
    "print(\"np.sum(unweighted_average) is:\")\n",
    "print(np.sum(unweighted_average))"
   ]
  },
  {
   "cell_type": "markdown",
   "metadata": {},
   "source": [
    "From the fact that the values of the weighted average are lower (i.e. closer to the within-word population vector) than the values of this unweighted average, we see that the within-word population vector has had more influence on the combined vector than the within-segment population vector."
   ]
  },
  {
   "cell_type": "markdown",
   "metadata": {},
   "source": [
    "#####  Model description continued:"
   ]
  },
  {
   "cell_type": "markdown",
   "metadata": {},
   "source": [
    "##### Random noise (i.e. minimal-effort pressure):\n",
    "\n",
    "_\"Noise is added to values of the output target by adding a normally distributed random value. This random value is biased slightly toward the center of the dimension, (i.e. a scale value of 50), in a simple model of production-based lenition (Pierrehumbert 2001; see also e.g. Lindblom et al. 1984 for arguments that the packing of phoneme inventories is in part a consequence of effort-minimization processes). The results described below do not depend on this lenition bias, but they contribute to the illustration by imposing a tendency for each segment exemplar distribution to drift toward the center of each dimension which encourages category merger (see discussion below).\"_ \n",
    "\n",
    "- _\"Finally, a Gaussian random variable with a standard deviation of 3 is added to the output to introduce noise. This variable is biased slightly toward the center of the dimensional space, creating a fixed attractor at the center of each segment dimension in the system. The bias is calculated using a parabolic response curve given below, where $b$ is the bias added to the output population vector, $p$ is the output population vector, $N$ is the number of points in the space and $G$ is a constant; $b$ is subtracted from outputs greater than $N/2$ (here, 50) and added to those below it.\"_ (Wedel, 2012; Appendix)\n",
    "    \n",
    "$$ b = \\frac{(p-N/2)^2}{G}$$\n",
    "\n",
    "- _\"The value of G used in these simulations was 5000, giving a bias toward the center of 0.5 at the edges of the continuum. All else being equal, this bias shifts the distributions of both categories toward the center of the dimension over time, i.e. toward 50, which corresponds to a simple model of articulatory undershoot (cf. Lindblom 1983; Pierrehumbert 2001).\"_ (Wedel, 2012; Appendix)\n",
    " "
   ]
  },
  {
   "cell_type": "markdown",
   "metadata": {},
   "source": [
    "##### Intermezzo: Worked example for random noise:\n",
    "\n",
    "Imagine the target output vector is: [15.65, 25.68]\n",
    "\n",
    "(as was the output of applying and combining the similarity biases above)"
   ]
  },
  {
   "cell_type": "code",
   "execution_count": 12,
   "metadata": {
    "ExecuteTime": {
     "end_time": "2022-02-28T14:46:06.051173Z",
     "start_time": "2022-02-28T14:46:06.047398Z"
    }
   },
   "outputs": [],
   "source": [
    "n = 100\n",
    "g = 5000\n",
    "\n",
    "def bias(p, n, g):\n",
    "    b = ((p - (n/2))**2)/g\n",
    "    return b"
   ]
  },
  {
   "cell_type": "markdown",
   "metadata": {},
   "source": [
    "The text in the appendix of Wedel (2012) gives a worked example: $G=5000$ should give \"a bias toward the center of 0.5 at the edges of the continuum\". Let's check this:"
   ]
  },
  {
   "cell_type": "code",
   "execution_count": 13,
   "metadata": {
    "ExecuteTime": {
     "end_time": "2022-02-28T14:46:06.277066Z",
     "start_time": "2022-02-28T14:46:06.272894Z"
    }
   },
   "outputs": [
    {
     "name": "stdout",
     "output_type": "stream",
     "text": [
      "bias_edge_left is:\n",
      "0.5\n",
      "bias_edge_right is:\n",
      "0.5\n"
     ]
    }
   ],
   "source": [
    "bias_edge_left = bias(0, n, g)\n",
    "print(\"bias_edge_left is:\")\n",
    "print(bias_edge_left)\n",
    "\n",
    "bias_edge_right = bias(100, n, g)\n",
    "print(\"bias_edge_right is:\")\n",
    "print(bias_edge_right)"
   ]
  },
  {
   "cell_type": "markdown",
   "metadata": {},
   "source": [
    "This matches the example given in the appendix of Wedel (2012)."
   ]
  },
  {
   "cell_type": "code",
   "execution_count": 14,
   "metadata": {
    "ExecuteTime": {
     "end_time": "2022-02-28T14:46:06.517513Z",
     "start_time": "2022-02-28T14:46:06.510608Z"
    }
   },
   "outputs": [
    {
     "name": "stdout",
     "output_type": "stream",
     "text": [
      "\n",
      "dimension is:\n",
      "0\n",
      "b is:\n",
      "0.23602643174405652\n",
      "\n",
      "dimension is:\n",
      "1\n",
      "b is:\n",
      "0.11830078260539556\n",
      "\n",
      "biased_means are:\n",
      "[15.882974766422054, 25.797447322519382]\n"
     ]
    }
   ],
   "source": [
    "import numpy as np\n",
    "\n",
    "n = 100\n",
    "g = 5000\n",
    "output_vector = combined_vector # the values of this are: [16.246413895136346, 26.28925494288395]\n",
    "\n",
    "def apply_bias(output_vector, n, g):\n",
    "    biased_vector = []\n",
    "    for dimension in range(len(output_vector)):\n",
    "        print('')\n",
    "        print(\"dimension is:\")\n",
    "        print(dimension)\n",
    "        p = output_vector[dimension]\n",
    "        b = bias(p, n, g)\n",
    "        print('b is:')\n",
    "        print(b)\n",
    "        if p < (n/2):\n",
    "            biased_mean = p+b\n",
    "        else:\n",
    "            biased_mean = p-b\n",
    "        biased_vector.append(biased_mean)\n",
    "    return biased_vector\n",
    "            \n",
    "biased_means = apply_bias(output_vector, n, g)\n",
    "print('')\n",
    "print(\"biased_means are:\")\n",
    "print(biased_means)"
   ]
  },
  {
   "cell_type": "markdown",
   "metadata": {},
   "source": [
    "The biased_means of [15.88, 25.80] (given $G=5000$) makes sense, because the idea is that the values should move closer to the centre of the space (i.e. 50 and 50)."
   ]
  },
  {
   "cell_type": "markdown",
   "metadata": {},
   "source": [
    "The next step is then to add random noise by choosing a value from a normal distribution with these new biased values as the mean, and a standard deviation of 3:"
   ]
  },
  {
   "cell_type": "code",
   "execution_count": 15,
   "metadata": {
    "ExecuteTime": {
     "end_time": "2022-02-28T14:46:06.930664Z",
     "start_time": "2022-02-28T14:46:06.924569Z"
    }
   },
   "outputs": [
    {
     "name": "stdout",
     "output_type": "stream",
     "text": [
      "\n",
      "noisy_output is:\n",
      "[16.935407014495087, 28.753089612021437]\n"
     ]
    }
   ],
   "source": [
    "std = 3\n",
    "\n",
    "def add_noise(biased_means, std):\n",
    "    noisy_segments = []\n",
    "    for biased_segment in biased_means:\n",
    "        noisy_segment = np.random.normal(biased_segment, std, 1)\n",
    "        noisy_segments.append(noisy_segment[0])\n",
    "    return noisy_segments\n",
    "\n",
    "noisy_output = add_noise(biased_means, std)\n",
    "print('')\n",
    "print(\"noisy_output is:\")\n",
    "print(noisy_output)"
   ]
  },
  {
   "cell_type": "markdown",
   "metadata": {},
   "source": [
    "#####  Model description continued:"
   ]
  },
  {
   "cell_type": "markdown",
   "metadata": {},
   "source": [
    "#### Perception:\n",
    "        \n",
    "The listener _\"begins the categorization process by calculating the similarity of the speaker output to each category’s stored word exemplars given their activations, in a variant of the Generalized Context Model (Nosofsky 1988). The overall similarities of the speaker output to each category are interpreted as a relative goodness of fit, and the speaker output is then stored as a new exemplar in the best fitting category.\"_\n",
    "- _\"The listener compares the speaker’s output to all of its word exemplars in each category, calculates a sum similarity score for each category using the Generalized Context Model for categorization (Nosofsky 1988), again modified to take activation into account as above in (1), where the scaling factor $k$ is again .2. The speaker output is then stored as a new exemplar in the best fitting listener word category.\"_ (Wedel, 2012; Appendix)"
   ]
  },
  {
   "cell_type": "markdown",
   "metadata": {},
   "source": [
    "##### Intermezzo: Worked example for perception:"
   ]
  },
  {
   "cell_type": "markdown",
   "metadata": {},
   "source": [
    "The (1) mentioned in the text above corresponds to our Equation 2 in this jupyter notebook: i.e., the one that we used for calculating the population vectors for the similarity biases."
   ]
  },
  {
   "cell_type": "markdown",
   "metadata": {},
   "source": [
    "The first step is that the listener calculates the distance of this input vector to the exemplars of each word category in their own lexicon, using Equation 2. Let's first have a look at Equation 2 again (repeated below as Equation 5):\n",
    "\n",
    "\n",
    "- _\"The population vector with respect to a particular point within a particular segment dimension is a weighted average of all segment exemplars mapped to the category, where both the Euclidean distance from the target exemplar and activation influence each exemplar’s contribution. This is conceptually the same as Nosofsky’s Generalized Context model (Nosofsky 1988), modified to take exemplar activation into account. The formula used to incorporate these factors is given below, where $p$ is the output population vector, y is each position within the segment dimension value of the target under production, $w_{y}$ is the activation of the exemplar, $x$ is the reference point chosen as the basis for production, and $k$ is a scaling factor influencing the fall off of the contribution to the population vector of the point $y$ relative to $x$:\"_ (Wedel, 2012; Appendix)\n",
    "\n",
    "$$ p = \\frac{\\sum_y yw_{y} e^{-k |x-y|}}{\\sum_{y} w_{y} e^{-k |x-y|}} $$\n",
    "\n",
    "- _\"The value of $k$ used in the simulations shown here is 0.2; a larger value of $k$ reduces the effect of more distant values on the population vector.\"_ (Wedel, 2012; Appendix). --> Let us start with $k = 0.2$ as well, but make $k$ into a parameter that we can change just in case."
   ]
  },
  {
   "cell_type": "markdown",
   "metadata": {},
   "source": [
    "Now let's have a look at this Nosofsky (1988) paper that they refer to. It has the following two equations in the section on \"Classification\":"
   ]
  },
  {
   "cell_type": "code",
   "execution_count": 16,
   "metadata": {
    "ExecuteTime": {
     "end_time": "2022-02-28T14:46:08.163377Z",
     "start_time": "2022-02-28T14:46:08.138261Z"
    }
   },
   "outputs": [
    {
     "data": {
      "image/png": "[encoded data removed]",
      "text/plain": [
       "<IPython.core.display.Image object>"
      ]
     },
     "execution_count": 16,
     "metadata": {
      "image/png": {
       "height": 465,
       "width": 573
      }
     },
     "output_type": "execute_result"
    }
   ],
   "source": [
    "from IPython.display import Image\n",
    "\n",
    "Image(\"Nosofsky_1988_Similarity_Equation.png\", width = 573, height = 465)"
   ]
  },
  {
   "cell_type": "markdown",
   "metadata": {},
   "source": [
    "Nosofsky's (1988) Equation 4 corresponds to the last part seen both the numerator and denominator of Wedel's (2012) Equation 1. This is the part that takes a distance measure, and turns it into a similarity score.\n",
    "\n",
    "In addition to that, we also want to multiply the similarity score for each exemplar within a given category with its activation level (see quotes about perception from Wedel). The idea behind this must be that the more recent the exemplar, the more influence it should have. (I.e. if two exemplars from a given category are equally distant from the input exemplar, the most recent of the two should have a greater influence on the similarity score than the older one.)"
   ]
  },
  {
   "cell_type": "code",
   "execution_count": 17,
   "metadata": {
    "ExecuteTime": {
     "end_time": "2022-02-28T14:46:08.356458Z",
     "start_time": "2022-02-28T14:46:08.347324Z"
    }
   },
   "outputs": [
    {
     "name": "stdout",
     "output_type": "stream",
     "text": [
      "\n",
      "similarity_1_1 is:\n",
      "0.5926545765453743\n",
      "\n",
      "similarity_1_3 is:\n",
      "0.2963272882726872\n"
     ]
    }
   ],
   "source": [
    "import math\n",
    "\n",
    "# Let's first create a listener. \n",
    "# To keep things simple, let's make it the same as the speaker:\n",
    "\n",
    "listener_lexicon = speaker_lexicon\n",
    "\n",
    "listener_activations = speaker_activations\n",
    "\n",
    "# Let's take some example exemplars from this lexicon as defined above:\n",
    "# exemplar_1_1 = [15, 25]\n",
    "# exemplar_1_3 = [18, 28]\n",
    "# with the following corresponding activation levels:\n",
    "#activation_ex_1_1 = 0.4\n",
    "#activation_ex_1_3 = 0.2\n",
    "\n",
    "# Now let's imagine the listener gets the following vector as input from the speaker \n",
    "# (right in the middle between exemplar_1_1 and exemplar_1_3):\n",
    "\n",
    "speaker_output = [16.5, 26.5]\n",
    "\n",
    "def similarity_score(category_exemplar, category_exemplar_activation, input_exemplar, k):\n",
    "    sum_similarity = 0.\n",
    "    for dimension in range(len(input_exemplar)):\n",
    "        input_exemplar_value = input_exemplar[dimension]\n",
    "        category_exemplar_value = category_exemplar[dimension]\n",
    "        distance = abs(input_exemplar_value-category_exemplar_value)\n",
    "        similarity = math.exp(-k*distance)\n",
    "        weighted_similarity = similarity*category_exemplar_activation\n",
    "        sum_similarity += weighted_similarity\n",
    "    return sum_similarity\n",
    "        \n",
    "k = 0.2\n",
    "\n",
    "similarity_1_1 = similarity_score(exemplar_1_1, activation_ex_1_1, speaker_output, k)\n",
    "print('')\n",
    "print(\"similarity_1_1 is:\")\n",
    "print(similarity_1_1)\n",
    "\n",
    "similarity_1_3 = similarity_score(exemplar_1_3, activation_ex_1_3, speaker_output, k)\n",
    "print('')\n",
    "print(\"similarity_1_3 is:\")\n",
    "print(similarity_1_3)"
   ]
  },
  {
   "cell_type": "markdown",
   "metadata": {},
   "source": [
    "That seems to work at least: the similarity score for exemplar_1_3 comes out as lower, even though the distances are pretty much the same, because exemplar_1_3 has a lower activation level (half that of exemplar_1_1, to be exact). And we see that the similarity score of exemplar_1_3 indeed comes out as about half that of exemplar_1_1."
   ]
  },
  {
   "cell_type": "code",
   "execution_count": 18,
   "metadata": {
    "ExecuteTime": {
     "end_time": "2022-02-28T14:46:08.548473Z",
     "start_time": "2022-02-28T14:46:08.542922Z"
    }
   },
   "outputs": [
    {
     "name": "stdout",
     "output_type": "stream",
     "text": [
      "category_similarities are:\n",
      "[1.5221998119928382, 0.438217964235963, 0.4510492707459754, 0.00041301987043249446]\n"
     ]
    }
   ],
   "source": [
    "def sum_similarity_category(category_exemplars, exemplar_activations, input_exemplar, k):\n",
    "    sum_similarity = 0.\n",
    "    for i in range(len(category_exemplars)):\n",
    "        exemplar = category_exemplars[i]\n",
    "        activation = exemplar_activations[i]\n",
    "        similarity = similarity_score(exemplar, activation, input_exemplar, k)\n",
    "        sum_similarity += similarity\n",
    "    return sum_similarity\n",
    "\n",
    "\n",
    "def similarity_per_category(word_categories, activations, input_exemplar, k):\n",
    "    similarity_per_word_category = []\n",
    "    for i in range(len(word_categories)):\n",
    "        word = word_categories[i]\n",
    "        exemplar_activations = activations[i]\n",
    "        similarity = sum_similarity_category(word, exemplar_activations, input_exemplar, k)\n",
    "        similarity_per_word_category.append(similarity)\n",
    "    return similarity_per_word_category\n",
    "\n",
    "\n",
    "category_similarities = similarity_per_category(listener_lexicon, listener_activations, speaker_output, k)\n",
    "print(\"category_similarities are:\")\n",
    "print(category_similarities)"
   ]
  },
  {
   "cell_type": "markdown",
   "metadata": {},
   "source": [
    "This looks right at least, in the sense that the speaker_output fits word category 1 the best, fits word categories 2 and 3 equally moderately, and fits word category 4 the worst"
   ]
  },
  {
   "cell_type": "markdown",
   "metadata": {},
   "source": [
    "#####  Model description continued:"
   ]
  },
  {
   "cell_type": "markdown",
   "metadata": {},
   "source": [
    "##### Anti-ambiguity bias\n",
    "\n",
    "- From Winter & Wedel (2016): _\"A final feature of the model is a bias against confusability of word perception, that is, an anti-ambiguity bias. The bias is implemented as follows: the probability of successful identification of an output with a word category is proportional to the degree to which the output uniquely maps to that category and to no other. In this way, distinctive speaker outputs are more likely to be stored than ambiguous outputs, with the result that distinctive phonetic values contribute more to the continuing evolution of the lexicon, both at the word and sound levels.\"_\n",
    "- From Wedel (2012): _\"When a speaker output is assigned to the best fitting category, it has a probability of being stored as a new exemplar that is the same as its calculated relative fit that category. For example, if the relative fit of a token to the best fitting category is .9, it has a 90% chance of being stored and a 10% chance of being discarded.\"_\n",
    "- _\"An anti-ambiguity bias is included at the level of the listener in this model in the form of a probability that a speaker output will not be stored as a new exemplar in the best-fitting category. This probability is the reciprocal of the similarity of that output to that category as calculated above, divided by the sum of its similarity to all categories. For example, if the similarity of a speaker output to the best fitting category is .9 relative to all categories, it will have a probability of .1 of not being stored.\"_ (Wedel, 2012; Appendix)"
   ]
  },
  {
   "cell_type": "markdown",
   "metadata": {},
   "source": [
    "##### Intermezzo: Worked example for anti-ambiguity bias:"
   ]
  },
  {
   "cell_type": "markdown",
   "metadata": {},
   "source": [
    "Ok, so here we need to take the output from the similarity_per_category() function, and calculate the *relative* fit of each category. I think that only means normalising the category_similarities values over all categories, thereby turning them into probabilities?"
   ]
  },
  {
   "cell_type": "code",
   "execution_count": 19,
   "metadata": {
    "ExecuteTime": {
     "end_time": "2022-02-28T14:46:09.532226Z",
     "start_time": "2022-02-28T14:46:09.527803Z"
    }
   },
   "outputs": [
    {
     "name": "stdout",
     "output_type": "stream",
     "text": [
      "relative_fit_probabilities are:\n",
      "[0.6311258312209148, 0.1816914407394898, 0.18701148408923896, 0.00017124395035642603]\n",
      "\n",
      "sum(relative_fit_probabilities) is:\n",
      "1.0\n"
     ]
    }
   ],
   "source": [
    "def relative_fit(category_similarities):\n",
    "    normalised_similarities = []\n",
    "    for similarity in category_similarities:\n",
    "        normalised_fit = similarity/sum(category_similarities)\n",
    "        normalised_similarities.append(normalised_fit)\n",
    "    return normalised_similarities\n",
    "\n",
    "relative_fit_probabilities = relative_fit(category_similarities)\n",
    "print(\"relative_fit_probabilities are:\")\n",
    "print(relative_fit_probabilities)\n",
    "# Let's check that these indeed sum to 1.0, just in case:\n",
    "print('')\n",
    "print(\"sum(relative_fit_probabilities) is:\")\n",
    "print(sum(relative_fit_probabilities))"
   ]
  },
  {
   "cell_type": "markdown",
   "metadata": {},
   "source": [
    "#### Reciprocal??\n",
    "\n",
    "So that should mean that the probability of adding the speaker_output to word category 1 (index 0) should be about 0.63"
   ]
  },
  {
   "cell_type": "code",
   "execution_count": 20,
   "metadata": {
    "ExecuteTime": {
     "end_time": "2022-02-28T14:46:09.732901Z",
     "start_time": "2022-02-28T14:46:09.728409Z"
    }
   },
   "outputs": [
    {
     "name": "stdout",
     "output_type": "stream",
     "text": [
      "\n",
      "fit is:\n",
      "1.5221998119928382\n",
      "reciprocal is:\n",
      "0.6569439781304512\n",
      "\n",
      "fit is:\n",
      "0.438217964235963\n",
      "reciprocal is:\n",
      "2.281969434419488\n",
      "\n",
      "fit is:\n",
      "0.4510492707459754\n",
      "reciprocal is:\n",
      "2.217052692150756\n",
      "\n",
      "fit is:\n",
      "0.00041301987043249446\n",
      "reciprocal is:\n",
      "2421.191016676385\n"
     ]
    }
   ],
   "source": [
    "# But what does Wedel (2012) mean when he says \"reciprocal\" in the Appendix? \n",
    "# Does he mean reciprocal in the mathematical sense of 1/fit?\n",
    "# We can't imagine he does; but who knows! Let's check what that would give us:\n",
    "\n",
    "for fit in category_similarities:\n",
    "    print('')\n",
    "    print(\"fit is:\")\n",
    "    print(fit)\n",
    "    reciprocal = 1./fit\n",
    "    print(\"reciprocal is:\")\n",
    "    print(reciprocal)\n",
    "\n",
    "# Hmm, I can't see how this would be relevant for getting what Wedel and Winter & Wedel \n",
    "# describe in the text when they talk about the anti-ambiguity bias."
   ]
  },
  {
   "cell_type": "code",
   "execution_count": 21,
   "metadata": {
    "ExecuteTime": {
     "end_time": "2022-02-28T14:46:09.741125Z",
     "start_time": "2022-02-28T14:46:09.735587Z"
    }
   },
   "outputs": [
    {
     "name": "stdout",
     "output_type": "stream",
     "text": [
      "\n",
      "sum_similarity_across_categories is:\n",
      "2.411880066845209\n",
      "\n",
      "sum_normalised is:\n",
      "1.0\n",
      "\n",
      "fit_normalised_using_reciprocal_per_category are:\n",
      "[0.6311258312209149, 0.1816914407394898, 0.18701148408923898, 0.00017124395035642603]\n"
     ]
    }
   ],
   "source": [
    "# Or do they make use of the reciprocal somehow to normalise the similarity measures\n",
    "# to get the relative fit? Because the reciprocal is what to multiply a value by to get 1\n",
    "# So to normalise the fit values per category, you could also multiply each of them with \n",
    "# the reciprocal of the sum similarity across all categories.\n",
    "\n",
    "sum_similarity_across_categories = sum(category_similarities)\n",
    "print('')\n",
    "print(\"sum_similarity_across_categories is:\")\n",
    "print(sum_similarity_across_categories)\n",
    "\n",
    "sum_normalised = sum_similarity_across_categories * (1./sum_similarity_across_categories)\n",
    "print('')\n",
    "print(\"sum_normalised is:\")\n",
    "print(sum_normalised)\n",
    "\n",
    "\n",
    "fit_normalised_using_reciprocal_per_category = []\n",
    "for fit in category_similarities:\n",
    "    fit_normalised_using_reciprocal = fit*(1./sum_similarity_across_categories)\n",
    "    fit_normalised_using_reciprocal_per_category.append(fit_normalised_using_reciprocal)\n",
    "    \n",
    "print('')\n",
    "print(\"fit_normalised_using_reciprocal_per_category are:\")\n",
    "print(fit_normalised_using_reciprocal_per_category)"
   ]
  },
  {
   "cell_type": "markdown",
   "metadata": {},
   "source": [
    "Ok, so this roundabout normalising procedure using the reciprocal does get us the same values as our relative_fit() function..."
   ]
  },
  {
   "cell_type": "markdown",
   "metadata": {},
   "source": [
    "I tried having a look in Andy's code to see if I could find how the anti-ambiguity bias is implemented there, but it's a bit hard to figure out, because there's a part of the code that is for the case where \"category competition\" is switched on, and it's not entirely clear to me whether that's the same as the anti-ambiguity bias, or not. But if it is: it indeed works as I described above: When category competition is turned on, the probability of a given exemplar being added to its most-similar category is proportional to its similarity to that category."
   ]
  },
  {
   "cell_type": "markdown",
   "metadata": {},
   "source": [
    "#####  Model description continued:"
   ]
  },
  {
   "cell_type": "markdown",
   "metadata": {},
   "source": [
    "### Pressures at play for continuer signals\n",
    "\n",
    "\n",
    "#### Production:\n",
    "\n",
    "1. *Weaken* the pressure for reuse of features: i.e. the within-segment similarity bias. --> This could simply consist of changing the weighting of the within-word similarity bias relative to the within-segment similarity bias. Wedel (2012) used 0.9:0.1 (word:segment). We could try a couple of other weight ratios. For example: \n",
    "    1. 1.8:0.1\n",
    "    2. 2.7:0.1\n",
    "    3. 3.6:0.1\n",
    "    4. 0.9:0.0\n",
    "    \n",
    "    In other words, making the weighting of the word-similarity bias relative to the segment-similarity bias either 2, 3, or 4 times as high as in Wedel (2012). And, in the case of option D, removing the influence of the segment-similarity bias altogether.\n",
    "\n",
    "\n",
    "2. *Strengthen* the pressure for minimal effort. This would mean strenthening the effect of the bias $b$ shown in Equation (2), by decreasing the value of $G$. Let's try the following values of $G$ for the continuers:\n",
    "    1. $G = 2500$\n",
    "    2. $G = 1666.66...$\n",
    "    3. $G = 1250$\n",
    "    \n",
    "    These values produce a minimal effort bias that is, respectively, 2, 3, and 4 times as strong for the continuer words compared to the regular vocabulary words.\n",
    "    \n",
    "Let's have a look at how the bias value for segments at the edges of a dimension (i.e. segments with value 0 or 100) turn out with these different values of G. As mentioned above, with the bias of $G=5000$ that is used in Wedel (2012), these segment values result in a bias value of 0.5."
   ]
  },
  {
   "cell_type": "code",
   "execution_count": 22,
   "metadata": {
    "ExecuteTime": {
     "end_time": "2022-02-28T14:46:10.565421Z",
     "start_time": "2022-02-28T14:46:10.557558Z"
    }
   },
   "outputs": [
    {
     "name": "stdout",
     "output_type": "stream",
     "text": [
      "bias_edge_left_1000 is:\n",
      "1.0\n",
      "bias_edge_right_1000 is:\n",
      "1.0\n",
      "bias_edge_left_500 is:\n",
      "1.500006000024\n",
      "bias_edge_right_500 is:\n",
      "1.500006000024\n",
      "bias_edge_left_250 is:\n",
      "2.0\n",
      "bias_edge_right_250 is:\n",
      "2.0\n"
     ]
    }
   ],
   "source": [
    "n = 100\n",
    "\n",
    "g = 2500\n",
    "\n",
    "bias_edge_left_1000 = bias(0, n, g)\n",
    "print(\"bias_edge_left_1000 is:\")\n",
    "print(bias_edge_left_1000)\n",
    "\n",
    "bias_edge_right_1000 = bias(100, n, g)\n",
    "print(\"bias_edge_right_1000 is:\")\n",
    "print(bias_edge_right_1000)\n",
    "\n",
    "\n",
    "g = 1666.66\n",
    "\n",
    "bias_edge_left_500 = bias(0, n, g)\n",
    "print(\"bias_edge_left_500 is:\")\n",
    "print(bias_edge_left_500)\n",
    "\n",
    "bias_edge_right_500 = bias(100, n, g)\n",
    "print(\"bias_edge_right_500 is:\")\n",
    "print(bias_edge_right_500)\n",
    "\n",
    "\n",
    "g = 1250\n",
    "\n",
    "bias_edge_left_250 = bias(0, n, g)\n",
    "print(\"bias_edge_left_250 is:\")\n",
    "print(bias_edge_left_250)\n",
    "\n",
    "bias_edge_right_250 = bias(100, n, g)\n",
    "print(\"bias_edge_right_250 is:\")\n",
    "print(bias_edge_right_250)"
   ]
  },
  {
   "cell_type": "markdown",
   "metadata": {},
   "source": [
    "So, compared to the bias parameter $G=5000$ that is used in Wedel (2012), which produces a bias at the edges of 0.5, we can state that:\n",
    "\n",
    "- $G=2500$ yields a minimal effort bias that is 2 times as strong as the minimal effort bias used in Wedel (2012)\n",
    "- $G=1666.66$ yields a minimal effort bias that is 3 times as strong as the minimal effort bias used in Wedel (2012)\n",
    "- $G=1250$ yields a minimal effort bias that is 4 times as strong as the minimal effort bias used in Wedel (2012)"
   ]
  },
  {
   "cell_type": "markdown",
   "metadata": {},
   "source": [
    "#### Perception:\n",
    "\n",
    "Nothing in particular for now. (This is where we could implement our idea of an extra anti-ambiguity pressure that acts *between* the class of \"regular vocabulary\" on the one hand, and the class of \"collatoral signals\" on the other hand. But we will not implement this pressure for now, because we don't find it sufficiently independently motivated from the easing of the reuse of features pressure.)"
   ]
  },
  {
   "cell_type": "markdown",
   "metadata": {},
   "source": [
    "## Measures:\n",
    "\n",
    "### Measure to calculate \"squareness\":"
   ]
  },
  {
   "cell_type": "code",
   "execution_count": 23,
   "metadata": {
    "ExecuteTime": {
     "end_time": "2022-02-28T14:46:11.314130Z",
     "start_time": "2022-02-28T14:46:11.148211Z"
    }
   },
   "outputs": [
    {
     "ename": "NameError",
     "evalue": "name 'all_possible_pairings' is not defined",
     "output_type": "error",
     "traceback": [
      "\u001b[0;31m---------------------------------------------------------------------------\u001b[0m",
      "\u001b[0;31mNameError\u001b[0m                                 Traceback (most recent call last)",
      "\u001b[0;32m/var/folders/3y/tfh7pgln7q50mmdy6_j5yq2h0000gp/T/ipykernel_26164/1688830909.py\u001b[0m in \u001b[0;36m<module>\u001b[0;34m\u001b[0m\n\u001b[1;32m     85\u001b[0m     \u001b[0;32mreturn\u001b[0m \u001b[0mdistances_per_dimension\u001b[0m\u001b[0;34m\u001b[0m\u001b[0;34m\u001b[0m\u001b[0m\n\u001b[1;32m     86\u001b[0m \u001b[0;34m\u001b[0m\u001b[0m\n\u001b[0;32m---> 87\u001b[0;31m \u001b[0mdistances_per_dimension\u001b[0m \u001b[0;34m=\u001b[0m \u001b[0mpairwise_distances\u001b[0m\u001b[0;34m(\u001b[0m\u001b[0mcentroids_square_1\u001b[0m\u001b[0;34m,\u001b[0m \u001b[0mall_possible_pairings\u001b[0m\u001b[0;34m,\u001b[0m \u001b[0mn_dimensions\u001b[0m\u001b[0;34m)\u001b[0m\u001b[0;34m\u001b[0m\u001b[0;34m\u001b[0m\u001b[0m\n\u001b[0m\u001b[1;32m     88\u001b[0m \u001b[0mprint\u001b[0m\u001b[0;34m(\u001b[0m\u001b[0;34m\"distances_per_dimension are:\"\u001b[0m\u001b[0;34m)\u001b[0m\u001b[0;34m\u001b[0m\u001b[0;34m\u001b[0m\u001b[0m\n\u001b[1;32m     89\u001b[0m \u001b[0mprint\u001b[0m\u001b[0;34m(\u001b[0m\u001b[0mdistances_per_dimension\u001b[0m\u001b[0;34m)\u001b[0m\u001b[0;34m\u001b[0m\u001b[0;34m\u001b[0m\u001b[0m\n",
      "\u001b[0;31mNameError\u001b[0m: name 'all_possible_pairings' is not defined"
     ]
    }
   ],
   "source": [
    "import numpy as np\n",
    "\n",
    "# NOTE that this code only works for a simulation with exactly 4 words.\n",
    "\n",
    "\n",
    "\n",
    "# Let's make up some example values for the centroids, and enumerate all the\n",
    "# possible ways in which they can be a square. Because the way the values\n",
    "# line up on Dimension 1 determines how the values on Dimension 2 should\n",
    "# line up in order to form a square, I believe there are only three possible\n",
    "# ways of forming a square. The comments above the centroid arrays show\n",
    "# the corresponding translation into \"pairings\" between segment values along\n",
    "# the different dimensions.\n",
    "\n",
    "# dimension 1: [[0, 1], [2, 3]] # Meaning: along Dimension 1, the segments of \n",
    "                                # categories 0 and 1 lie close together, and \n",
    "                                # the segments of categories 2 and 3\n",
    "                                # lie close together.\n",
    "# dimension 2: [[0, 2], [1, 3]] # These are the corresponding pairings of categories\n",
    "                                # that are necessary along Dimension 2, in order to\n",
    "                                # complement those along Dimension 1, in such a way\n",
    "                                # that you get a square.\n",
    "centroids_square_1 = np.array([[15, 25], \n",
    "                               [20, 80], \n",
    "                               [65, 15], \n",
    "                               [75, 85]])\n",
    "\n",
    "# dimension 1: [[0, 2], [1, 3]]\n",
    "# dimension 2: [[0, 1], [2, 3]]\n",
    "centroids_square_2 = np.array([[15, 25], \n",
    "                               [65, 15], \n",
    "                               [20, 80], \n",
    "                               [75, 85]])\n",
    "\n",
    "# dimension 1: [[0, 3], [1, 2]]\n",
    "# dimension 2: [[0, 1], [2, 3]]\n",
    "centroids_square_3 = np.array([[15, 25], \n",
    "                               [65, 15], \n",
    "                               [75, 85], \n",
    "                               [20, 80]])\n",
    "\n",
    "\n",
    "# So these are the three possible pairings between segment values along\n",
    "# the different dimensions that result in a square (separated by dimension):\n",
    "\n",
    "possible_pairings_dimension_1 = np.array([[[0, 1], [2, 3]], \n",
    "                                          [[0, 2], [1, 3]], \n",
    "                                          [[0, 3], [1, 2]]])\n",
    " \n",
    "corresponding_mappings_dimension_2 = np.array([[[0, 2], [1, 3]], \n",
    "                                               [[0, 1], [2, 3]], \n",
    "                                               [[0, 1], [2, 3]]])\n",
    "n_dimensions = 2\n",
    "\n",
    "def pairwise_distances(centroids, all_possible_pairings, n_dimensions):\n",
    "    distances_per_dimension = np.zeros((len(all_possible_pairings), n_dimensions))\n",
    "    for p in range(len(all_possible_pairings)):\n",
    "        pairing = all_possible_pairings[p]\n",
    "        print('')\n",
    "        print('')\n",
    "        print(\"pairing is:\")\n",
    "        print(pairing)\n",
    "        distance_per_dimension = np.zeros(n_dimensions)\n",
    "        for d in range(n_dimensions):\n",
    "            total_distance = 0.\n",
    "            for pair in pairing:\n",
    "                print('')\n",
    "                print(\"pair is:\")\n",
    "                print(pair)\n",
    "                index_i = pair[0]\n",
    "                index_j = pair[1]\n",
    "                segment_value_i = centroids[index_i][d]\n",
    "                segment_value_j = centroids[index_j][d]\n",
    "                print(\"segment_value_i is:\")\n",
    "                print(segment_value_i)      \n",
    "                print(\"segment_value_j is:\")\n",
    "                print(segment_value_j)   \n",
    "                total_distance += abs(segment_value_i-segment_value_j)\n",
    "                print(\"distance is:\")\n",
    "                print(abs(segment_value_i-segment_value_j))\n",
    "            distance_per_dimension[d] = total_distance\n",
    "        print(\"total_distance is:\")\n",
    "        print(total_distance)\n",
    "        distances_per_dimension[p] = distance_per_dimension\n",
    "    return distances_per_dimension\n",
    "\n",
    "distances_per_dimension = pairwise_distances(centroids_square_1, all_possible_pairings, n_dimensions)\n",
    "print(\"distances_per_dimension are:\")\n",
    "print(distances_per_dimension)"
   ]
  },
  {
   "cell_type": "markdown",
   "metadata": {},
   "source": [
    "### XXXXXX's [name redacted] implementation"
   ]
  },
  {
   "cell_type": "code",
   "execution_count": 1,
   "metadata": {
    "ExecuteTime": {
     "end_time": "2022-03-01T16:14:09.282580Z",
     "start_time": "2022-03-01T16:14:09.253854Z"
    }
   },
   "outputs": [
    {
     "name": "stdout",
     "output_type": "stream",
     "text": [
      "\n",
      "\n",
      "pairing is:\n",
      "[[[0 1]\n",
      "  [0 2]]\n",
      "\n",
      " [[2 3]\n",
      "  [1 3]]]\n",
      "\n",
      "pair is:\n",
      "[[0 1]\n",
      " [0 2]]\n",
      "segment_value_i is:\n",
      "15\n",
      "segment_value_j is:\n",
      "20\n",
      "distance is:\n",
      "5\n",
      "\n",
      "pair is:\n",
      "[[2 3]\n",
      " [1 3]]\n",
      "segment_value_i is:\n",
      "65\n",
      "segment_value_j is:\n",
      "75\n",
      "distance is:\n",
      "10\n",
      "\n",
      "pair is:\n",
      "[[0 1]\n",
      " [0 2]]\n",
      "segment_value_i is:\n",
      "25\n",
      "segment_value_j is:\n",
      "15\n",
      "distance is:\n",
      "10\n",
      "\n",
      "pair is:\n",
      "[[2 3]\n",
      " [1 3]]\n",
      "segment_value_i is:\n",
      "80\n",
      "segment_value_j is:\n",
      "85\n",
      "distance is:\n",
      "5\n",
      "total_distance is:\n",
      "15.0\n",
      "\n",
      "\n",
      "pairing is:\n",
      "[[[0 2]\n",
      "  [0 1]]\n",
      "\n",
      " [[1 3]\n",
      "  [2 3]]]\n",
      "\n",
      "pair is:\n",
      "[[0 2]\n",
      " [0 1]]\n",
      "segment_value_i is:\n",
      "15\n",
      "segment_value_j is:\n",
      "65\n",
      "distance is:\n",
      "50\n",
      "\n",
      "pair is:\n",
      "[[1 3]\n",
      " [2 3]]\n",
      "segment_value_i is:\n",
      "20\n",
      "segment_value_j is:\n",
      "75\n",
      "distance is:\n",
      "55\n",
      "\n",
      "pair is:\n",
      "[[0 2]\n",
      " [0 1]]\n",
      "segment_value_i is:\n",
      "25\n",
      "segment_value_j is:\n",
      "80\n",
      "distance is:\n",
      "55\n",
      "\n",
      "pair is:\n",
      "[[1 3]\n",
      " [2 3]]\n",
      "segment_value_i is:\n",
      "15\n",
      "segment_value_j is:\n",
      "85\n",
      "distance is:\n",
      "70\n",
      "total_distance is:\n",
      "125.0\n",
      "\n",
      "\n",
      "pairing is:\n",
      "[[[0 3]\n",
      "  [0 1]]\n",
      "\n",
      " [[1 2]\n",
      "  [2 3]]]\n",
      "\n",
      "pair is:\n",
      "[[0 3]\n",
      " [0 1]]\n",
      "segment_value_i is:\n",
      "15\n",
      "segment_value_j is:\n",
      "75\n",
      "distance is:\n",
      "60\n",
      "\n",
      "pair is:\n",
      "[[1 2]\n",
      " [2 3]]\n",
      "segment_value_i is:\n",
      "20\n",
      "segment_value_j is:\n",
      "65\n",
      "distance is:\n",
      "45\n",
      "\n",
      "pair is:\n",
      "[[0 3]\n",
      " [0 1]]\n",
      "segment_value_i is:\n",
      "25\n",
      "segment_value_j is:\n",
      "80\n",
      "distance is:\n",
      "55\n",
      "\n",
      "pair is:\n",
      "[[1 2]\n",
      " [2 3]]\n",
      "segment_value_i is:\n",
      "15\n",
      "segment_value_j is:\n",
      "85\n",
      "distance is:\n",
      "70\n",
      "total_distance is:\n",
      "125.0\n",
      "distances_per_dimension are:\n",
      "[[ 15.  15.]\n",
      " [105. 125.]\n",
      " [105. 125.]]\n",
      "distances_possibilities are:\n",
      "[ 30. 230. 230.]\n",
      "Smallest distance:  30.0\n",
      "Index smallest distance:  0\n"
     ]
    }
   ],
   "source": [
    "import numpy as np\n",
    "\n",
    "centroids_square = np.array([[15, 25], \n",
    "                             [20, 80], \n",
    "                             [65, 15], \n",
    "                             [75, 85]])\n",
    "\n",
    "all_possible_pairings = np.array([[[[0, 1], [0, 2]], [[2, 3], [1, 3]]], \n",
    "                                 [[[0, 2], [0, 1]], [[1, 3], [2, 3]]], \n",
    "                                 [[[0, 3], [0, 1]], [[1, 2], [2, 3]]]])\n",
    "\n",
    "# possible_pairings_dimension_1 = np.array([[[0, 1], [2, 3]], \n",
    "#                                           [[0, 2], [1, 3]], \n",
    "#                                           [[0, 3], [1, 2]]])\n",
    " \n",
    "# corresponding_mappings_dimension_2 = np.array([[[0, 2], [1, 3]], \n",
    "#                                                [[0, 1], [2, 3]], \n",
    "#                                                [[0, 1], [2, 3]]])\n",
    "\n",
    "n_dimensions = 2\n",
    "\n",
    "\n",
    "def pairwise_distances(centroids, all_possible_pairings, n_dimensions):\n",
    "    distances_per_dimension = np.zeros((len(all_possible_pairings), n_dimensions))\n",
    "    distances_pairings = np.zeros(len(all_possible_pairings))\n",
    "    for p in range(len(all_possible_pairings)):\n",
    "        pairing = all_possible_pairings[p]\n",
    "        print('')\n",
    "        print('')\n",
    "        print(\"pairing is:\")\n",
    "        print(pairing)\n",
    "        distance_per_dimension = np.zeros(n_dimensions)\n",
    "        for d in range(n_dimensions):\n",
    "            total_distance = 0.\n",
    "            for pair in pairing:\n",
    "                print('')\n",
    "                print(\"pair is:\")\n",
    "                print(pair)\n",
    "                index_i = pair[d][0]\n",
    "                index_j = pair[d][1]\n",
    "                segment_value_i = centroids[index_i][d]\n",
    "                segment_value_j = centroids[index_j][d]\n",
    "                print(\"segment_value_i is:\")\n",
    "                print(segment_value_i)      \n",
    "                print(\"segment_value_j is:\")\n",
    "                print(segment_value_j)   \n",
    "                total_distance += abs(segment_value_i-segment_value_j)\n",
    "                print(\"distance is:\")\n",
    "                print(abs(segment_value_i-segment_value_j))\n",
    "            distance_per_dimension[d] = total_distance\n",
    "        print(\"total_distance is:\")\n",
    "        print(total_distance)\n",
    "        distances_per_dimension[p] = distance_per_dimension\n",
    "        distances_pairings[p] = np.sum(distances_per_dimension[p])\n",
    "    return distances_per_dimension, distances_pairings\n",
    "\n",
    "distances_per_dimension, distances_pairings = pairwise_distances(centroids_square, all_possible_pairings, n_dimensions)\n",
    "print(\"distances_per_dimension are:\")\n",
    "print(distances_per_dimension)\n",
    "print(\"distances_possibilities are:\")\n",
    "print(distances_pairings)\n",
    "\n",
    "def choose_fitting_pairing(distances_pairings):\n",
    "    smallest_distance = np.amin(distances_pairings)\n",
    "    #smallest_index = np.where(smallest_distance)\n",
    "    smallest_index = np.argmin(distances_pairings)\n",
    "    #return smallest_distance, smallest_index[0][0]\n",
    "    return smallest_distance, smallest_index\n",
    "\n",
    "smallest_distance, smallest_index = choose_fitting_pairing(distances_pairings)\n",
    "print(\"Smallest distance: \", smallest_distance)\n",
    "print(\"Index smallest distance: \", smallest_index)"
   ]
  },
  {
   "cell_type": "code",
   "execution_count": 25,
   "metadata": {
    "ExecuteTime": {
     "end_time": "2022-02-28T14:46:11.378445Z",
     "start_time": "2022-02-28T14:46:11.354573Z"
    }
   },
   "outputs": [
    {
     "name": "stdout",
     "output_type": "stream",
     "text": [
      "\n",
      "\n",
      "CENTROIDS SQUARE 1 RESULTS\n",
      "\n",
      "\n",
      "\n",
      "pairing is:\n",
      "[[[0 1]\n",
      "  [0 2]]\n",
      "\n",
      " [[2 3]\n",
      "  [1 3]]]\n",
      "\n",
      "pair is:\n",
      "[[0 1]\n",
      " [0 2]]\n",
      "segment_value_i is:\n",
      "15\n",
      "segment_value_j is:\n",
      "20\n",
      "distance is:\n",
      "5\n",
      "\n",
      "pair is:\n",
      "[[2 3]\n",
      " [1 3]]\n",
      "segment_value_i is:\n",
      "65\n",
      "segment_value_j is:\n",
      "75\n",
      "distance is:\n",
      "10\n",
      "\n",
      "pair is:\n",
      "[[0 1]\n",
      " [0 2]]\n",
      "segment_value_i is:\n",
      "25\n",
      "segment_value_j is:\n",
      "15\n",
      "distance is:\n",
      "10\n",
      "\n",
      "pair is:\n",
      "[[2 3]\n",
      " [1 3]]\n",
      "segment_value_i is:\n",
      "80\n",
      "segment_value_j is:\n",
      "85\n",
      "distance is:\n",
      "5\n",
      "total_distance is:\n",
      "15.0\n",
      "\n",
      "\n",
      "pairing is:\n",
      "[[[0 2]\n",
      "  [0 1]]\n",
      "\n",
      " [[1 3]\n",
      "  [2 3]]]\n",
      "\n",
      "pair is:\n",
      "[[0 2]\n",
      " [0 1]]\n",
      "segment_value_i is:\n",
      "15\n",
      "segment_value_j is:\n",
      "65\n",
      "distance is:\n",
      "50\n",
      "\n",
      "pair is:\n",
      "[[1 3]\n",
      " [2 3]]\n",
      "segment_value_i is:\n",
      "20\n",
      "segment_value_j is:\n",
      "75\n",
      "distance is:\n",
      "55\n",
      "\n",
      "pair is:\n",
      "[[0 2]\n",
      " [0 1]]\n",
      "segment_value_i is:\n",
      "25\n",
      "segment_value_j is:\n",
      "80\n",
      "distance is:\n",
      "55\n",
      "\n",
      "pair is:\n",
      "[[1 3]\n",
      " [2 3]]\n",
      "segment_value_i is:\n",
      "15\n",
      "segment_value_j is:\n",
      "85\n",
      "distance is:\n",
      "70\n",
      "total_distance is:\n",
      "125.0\n",
      "\n",
      "\n",
      "pairing is:\n",
      "[[[0 3]\n",
      "  [0 1]]\n",
      "\n",
      " [[1 2]\n",
      "  [2 3]]]\n",
      "\n",
      "pair is:\n",
      "[[0 3]\n",
      " [0 1]]\n",
      "segment_value_i is:\n",
      "15\n",
      "segment_value_j is:\n",
      "75\n",
      "distance is:\n",
      "60\n",
      "\n",
      "pair is:\n",
      "[[1 2]\n",
      " [2 3]]\n",
      "segment_value_i is:\n",
      "20\n",
      "segment_value_j is:\n",
      "65\n",
      "distance is:\n",
      "45\n",
      "\n",
      "pair is:\n",
      "[[0 3]\n",
      " [0 1]]\n",
      "segment_value_i is:\n",
      "25\n",
      "segment_value_j is:\n",
      "80\n",
      "distance is:\n",
      "55\n",
      "\n",
      "pair is:\n",
      "[[1 2]\n",
      " [2 3]]\n",
      "segment_value_i is:\n",
      "15\n",
      "segment_value_j is:\n",
      "85\n",
      "distance is:\n",
      "70\n",
      "total_distance is:\n",
      "125.0\n",
      "distances_per_dimension_1 are:\n",
      "[[ 15.  15.]\n",
      " [105. 125.]\n",
      " [105. 125.]]\n",
      "distances_possibilities_1 are:\n",
      "[ 30. 230. 230.]\n",
      "Smallest distance:  30.0\n",
      "Index smallest distance:  0\n",
      "\n",
      "\n",
      "CENTROIDS SQUARE 2 RESULTS\n",
      "\n",
      "\n",
      "\n",
      "pairing is:\n",
      "[[[0 1]\n",
      "  [0 2]]\n",
      "\n",
      " [[2 3]\n",
      "  [1 3]]]\n",
      "\n",
      "pair is:\n",
      "[[0 1]\n",
      " [0 2]]\n",
      "segment_value_i is:\n",
      "15\n",
      "segment_value_j is:\n",
      "65\n",
      "distance is:\n",
      "50\n",
      "\n",
      "pair is:\n",
      "[[2 3]\n",
      " [1 3]]\n",
      "segment_value_i is:\n",
      "20\n",
      "segment_value_j is:\n",
      "75\n",
      "distance is:\n",
      "55\n",
      "\n",
      "pair is:\n",
      "[[0 1]\n",
      " [0 2]]\n",
      "segment_value_i is:\n",
      "25\n",
      "segment_value_j is:\n",
      "80\n",
      "distance is:\n",
      "55\n",
      "\n",
      "pair is:\n",
      "[[2 3]\n",
      " [1 3]]\n",
      "segment_value_i is:\n",
      "15\n",
      "segment_value_j is:\n",
      "85\n",
      "distance is:\n",
      "70\n",
      "total_distance is:\n",
      "125.0\n",
      "\n",
      "\n",
      "pairing is:\n",
      "[[[0 2]\n",
      "  [0 1]]\n",
      "\n",
      " [[1 3]\n",
      "  [2 3]]]\n",
      "\n",
      "pair is:\n",
      "[[0 2]\n",
      " [0 1]]\n",
      "segment_value_i is:\n",
      "15\n",
      "segment_value_j is:\n",
      "20\n",
      "distance is:\n",
      "5\n",
      "\n",
      "pair is:\n",
      "[[1 3]\n",
      " [2 3]]\n",
      "segment_value_i is:\n",
      "65\n",
      "segment_value_j is:\n",
      "75\n",
      "distance is:\n",
      "10\n",
      "\n",
      "pair is:\n",
      "[[0 2]\n",
      " [0 1]]\n",
      "segment_value_i is:\n",
      "25\n",
      "segment_value_j is:\n",
      "15\n",
      "distance is:\n",
      "10\n",
      "\n",
      "pair is:\n",
      "[[1 3]\n",
      " [2 3]]\n",
      "segment_value_i is:\n",
      "80\n",
      "segment_value_j is:\n",
      "85\n",
      "distance is:\n",
      "5\n",
      "total_distance is:\n",
      "15.0\n",
      "\n",
      "\n",
      "pairing is:\n",
      "[[[0 3]\n",
      "  [0 1]]\n",
      "\n",
      " [[1 2]\n",
      "  [2 3]]]\n",
      "\n",
      "pair is:\n",
      "[[0 3]\n",
      " [0 1]]\n",
      "segment_value_i is:\n",
      "15\n",
      "segment_value_j is:\n",
      "75\n",
      "distance is:\n",
      "60\n",
      "\n",
      "pair is:\n",
      "[[1 2]\n",
      " [2 3]]\n",
      "segment_value_i is:\n",
      "65\n",
      "segment_value_j is:\n",
      "20\n",
      "distance is:\n",
      "45\n",
      "\n",
      "pair is:\n",
      "[[0 3]\n",
      " [0 1]]\n",
      "segment_value_i is:\n",
      "25\n",
      "segment_value_j is:\n",
      "15\n",
      "distance is:\n",
      "10\n",
      "\n",
      "pair is:\n",
      "[[1 2]\n",
      " [2 3]]\n",
      "segment_value_i is:\n",
      "80\n",
      "segment_value_j is:\n",
      "85\n",
      "distance is:\n",
      "5\n",
      "total_distance is:\n",
      "15.0\n",
      "distances_per_dimension_2 are:\n",
      "[[105. 125.]\n",
      " [ 15.  15.]\n",
      " [105.  15.]]\n",
      "distances_possibilities_2 are:\n",
      "[230.  30. 120.]\n",
      "Smallest distance:  30.0\n",
      "Index smallest distance:  1\n",
      "\n",
      "\n",
      "CENTROIDS SQUARE 3 RESULTS\n",
      "\n",
      "\n",
      "\n",
      "pairing is:\n",
      "[[[0 1]\n",
      "  [0 2]]\n",
      "\n",
      " [[2 3]\n",
      "  [1 3]]]\n",
      "\n",
      "pair is:\n",
      "[[0 1]\n",
      " [0 2]]\n",
      "segment_value_i is:\n",
      "15\n",
      "segment_value_j is:\n",
      "65\n",
      "distance is:\n",
      "50\n",
      "\n",
      "pair is:\n",
      "[[2 3]\n",
      " [1 3]]\n",
      "segment_value_i is:\n",
      "75\n",
      "segment_value_j is:\n",
      "20\n",
      "distance is:\n",
      "55\n",
      "\n",
      "pair is:\n",
      "[[0 1]\n",
      " [0 2]]\n",
      "segment_value_i is:\n",
      "25\n",
      "segment_value_j is:\n",
      "85\n",
      "distance is:\n",
      "60\n",
      "\n",
      "pair is:\n",
      "[[2 3]\n",
      " [1 3]]\n",
      "segment_value_i is:\n",
      "15\n",
      "segment_value_j is:\n",
      "80\n",
      "distance is:\n",
      "65\n",
      "total_distance is:\n",
      "125.0\n",
      "\n",
      "\n",
      "pairing is:\n",
      "[[[0 2]\n",
      "  [0 1]]\n",
      "\n",
      " [[1 3]\n",
      "  [2 3]]]\n",
      "\n",
      "pair is:\n",
      "[[0 2]\n",
      " [0 1]]\n",
      "segment_value_i is:\n",
      "15\n",
      "segment_value_j is:\n",
      "75\n",
      "distance is:\n",
      "60\n",
      "\n",
      "pair is:\n",
      "[[1 3]\n",
      " [2 3]]\n",
      "segment_value_i is:\n",
      "65\n",
      "segment_value_j is:\n",
      "20\n",
      "distance is:\n",
      "45\n",
      "\n",
      "pair is:\n",
      "[[0 2]\n",
      " [0 1]]\n",
      "segment_value_i is:\n",
      "25\n",
      "segment_value_j is:\n",
      "15\n",
      "distance is:\n",
      "10\n",
      "\n",
      "pair is:\n",
      "[[1 3]\n",
      " [2 3]]\n",
      "segment_value_i is:\n",
      "85\n",
      "segment_value_j is:\n",
      "80\n",
      "distance is:\n",
      "5\n",
      "total_distance is:\n",
      "15.0\n",
      "\n",
      "\n",
      "pairing is:\n",
      "[[[0 3]\n",
      "  [0 1]]\n",
      "\n",
      " [[1 2]\n",
      "  [2 3]]]\n",
      "\n",
      "pair is:\n",
      "[[0 3]\n",
      " [0 1]]\n",
      "segment_value_i is:\n",
      "15\n",
      "segment_value_j is:\n",
      "20\n",
      "distance is:\n",
      "5\n",
      "\n",
      "pair is:\n",
      "[[1 2]\n",
      " [2 3]]\n",
      "segment_value_i is:\n",
      "65\n",
      "segment_value_j is:\n",
      "75\n",
      "distance is:\n",
      "10\n",
      "\n",
      "pair is:\n",
      "[[0 3]\n",
      " [0 1]]\n",
      "segment_value_i is:\n",
      "25\n",
      "segment_value_j is:\n",
      "15\n",
      "distance is:\n",
      "10\n",
      "\n",
      "pair is:\n",
      "[[1 2]\n",
      " [2 3]]\n",
      "segment_value_i is:\n",
      "85\n",
      "segment_value_j is:\n",
      "80\n",
      "distance is:\n",
      "5\n",
      "total_distance is:\n",
      "15.0\n",
      "distances_per_dimension_3 are:\n",
      "[[105. 125.]\n",
      " [105.  15.]\n",
      " [ 15.  15.]]\n",
      "distances_possibilities_3 are:\n",
      "[230. 120.  30.]\n",
      "Smallest distance:  30.0\n",
      "Index smallest distance:  2\n"
     ]
    }
   ],
   "source": [
    "# XXXXX [name redacted] checking the results for the other possible squares of centroids:\n",
    "\n",
    "\n",
    "centroids_square_1 = np.array([[15, 25], \n",
    "                               [20, 80], \n",
    "                               [65, 15], \n",
    "                               [75, 85]])\n",
    "\n",
    "# dimension 1: [[0, 2], [1, 3]]\n",
    "# dimension 2: [[0, 1], [2, 3]]\n",
    "centroids_square_2 = np.array([[15, 25], \n",
    "                               [65, 15], \n",
    "                               [20, 80], \n",
    "                               [75, 85]])\n",
    "\n",
    "# dimension 1: [[0, 3], [1, 2]]\n",
    "# dimension 2: [[0, 1], [2, 3]]\n",
    "centroids_square_3 = np.array([[15, 25], \n",
    "                               [65, 15], \n",
    "                               [75, 85], \n",
    "                               [20, 80]])\n",
    "\n",
    "\n",
    "print('')\n",
    "print('')\n",
    "print('CENTROIDS SQUARE 1 RESULTS')\n",
    "print('')\n",
    "\n",
    "distances_per_dimension_1, distances_pairings_1 = pairwise_distances(centroids_square_1, all_possible_pairings, n_dimensions)\n",
    "print(\"distances_per_dimension_1 are:\")\n",
    "print(distances_per_dimension_1)\n",
    "print(\"distances_possibilities_1 are:\")\n",
    "print(distances_pairings_1)\n",
    "\n",
    "smallest_distance_1, smallest_index_1 = choose_fitting_pairing(distances_pairings_1)\n",
    "print(\"Smallest distance: \", smallest_distance_1)\n",
    "print(\"Index smallest distance: \", smallest_index_1)\n",
    "\n",
    "\n",
    "\n",
    "\n",
    "print('')\n",
    "print('')\n",
    "print('CENTROIDS SQUARE 2 RESULTS')\n",
    "print('')\n",
    "\n",
    "distances_per_dimension_2, distances_pairings_2 = pairwise_distances(centroids_square_2, all_possible_pairings, n_dimensions)\n",
    "print(\"distances_per_dimension_2 are:\")\n",
    "print(distances_per_dimension_2)\n",
    "print(\"distances_possibilities_2 are:\")\n",
    "print(distances_pairings_2)\n",
    "\n",
    "smallest_distance_2, smallest_index_2 = choose_fitting_pairing(distances_pairings_2)\n",
    "print(\"Smallest distance: \", smallest_distance_2)\n",
    "print(\"Index smallest distance: \", smallest_index_2)\n",
    "\n",
    "\n",
    "\n",
    "print('')\n",
    "print('')\n",
    "print('CENTROIDS SQUARE 3 RESULTS')\n",
    "print('')\n",
    "\n",
    "distances_per_dimension_3, distances_pairings_3 = pairwise_distances(centroids_square_3, all_possible_pairings, n_dimensions)\n",
    "print(\"distances_per_dimension_3 are:\")\n",
    "print(distances_per_dimension_3)\n",
    "print(\"distances_possibilities_3 are:\")\n",
    "print(distances_pairings_3)\n",
    "\n",
    "smallest_distance_3, smallest_index_3 = choose_fitting_pairing(distances_pairings_3)\n",
    "print(\"Smallest distance: \", smallest_distance_3)\n",
    "print(\"Index smallest distance: \", smallest_index_3)"
   ]
  },
  {
   "cell_type": "code",
   "execution_count": 26,
   "metadata": {
    "ExecuteTime": {
     "end_time": "2022-02-28T14:46:11.382063Z",
     "start_time": "2022-02-28T14:46:11.380038Z"
    }
   },
   "outputs": [],
   "source": [
    "# Excluding the cases in which the cluster centroids overlap\n",
    "\n",
    "# Dus per cluster x en per dimensie d de exemplar nemen die het verst uit het midden ligt, \n",
    "# en dan checken of er nog wel een positive distance is tussen die exemplar en de dichtstbijzijnde \n",
    "# exemplar van de corresponderende cluster y die met dit cluster x ge\"paired\" is op de *andere* dimensie\n",
    "\n"
   ]
  },
  {
   "cell_type": "markdown",
   "metadata": {},
   "source": [
    "## References\n",
    "\n",
    "Wedel, A. (2012). Lexical contrast maintenance and the organization of sublexical contrast systems. Language and Cognition, 4(4), 319–355. https://doi.org/10.1515/langcog-2012-0018\n",
    "\n",
    "Winter, B., & Wedel, A. (2016). The Co-evolution of Speech and the Lexicon: The Interaction of Functional Pressures, Redundancy, and Category Variation. Topics in Cognitive Science, 8(2), 503–513. https://doi.org/10.1111/tops.12202"
   ]
  }
 ],
 "metadata": {
  "kernelspec": {
   "display_name": "Python 3 (ipykernel)",
   "language": "python",
   "name": "python3"
  },
  "language_info": {
   "codemirror_mode": {
    "name": "ipython",
    "version": 3
   },
   "file_extension": ".py",
   "mimetype": "text/x-python",
   "name": "python",
   "nbconvert_exporter": "python",
   "pygments_lexer": "ipython3",
   "version": "3.7.4"
  },
  "latex_envs": {
   "LaTeX_envs_menu_present": true,
   "autoclose": false,
   "autocomplete": true,
   "bibliofile": "biblio.bib",
   "cite_by": "apalike",
   "current_citInitial": 1,
   "eqLabelWithNumbers": true,
   "eqNumInitial": 1,
   "hotkeys": {
    "equation": "Ctrl-E",
    "itemize": "Ctrl-I"
   },
   "labels_anchors": false,
   "latex_user_defs": false,
   "report_style_numbering": false,
   "user_envs_cfg": false
  },
  "toc": {
   "base_numbering": 1,
   "nav_menu": {},
   "number_sections": true,
   "sideBar": true,
   "skip_h1_title": false,
   "title_cell": "Table of Contents",
   "title_sidebar": "Contents",
   "toc_cell": false,
   "toc_position": {},
   "toc_section_display": true,
   "toc_window_display": false
  },
  "varInspector": {
   "cols": {
    "lenName": 16,
    "lenType": 16,
    "lenVar": 40
   },
   "kernels_config": {
    "python": {
     "delete_cmd_postfix": "",
     "delete_cmd_prefix": "del ",
     "library": "var_list.py",
     "varRefreshCmd": "print(var_dic_list())"
    },
    "r": {
     "delete_cmd_postfix": ") ",
     "delete_cmd_prefix": "rm(",
     "library": "var_list.r",
     "varRefreshCmd": "cat(var_dic_list()) "
    }
   },
   "types_to_exclude": [
    "module",
    "function",
    "builtin_function_or_method",
    "instance",
    "_Feature"
   ],
   "window_display": false
  }
 },
 "nbformat": 4,
 "nbformat_minor": 2
}
